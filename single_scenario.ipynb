{
 "cells": [
  {
   "cell_type": "code",
   "execution_count": 1,
   "metadata": {},
   "outputs": [],
   "source": [
    "from commonroad.common.file_reader import CommonRoadFileReader\n",
    "from python_scripts.simulation import step_simulation\n",
    "from python_scripts.visualizer import Visualizer\n",
    "import yaml\n",
    "import matplotlib.pyplot as plt\n",
    "from matplotlib import animation\n",
    "\n",
    "def plot(time_step, ego_vehicle, scenarios, sensor_views):\n",
    "    plt.cla()\n",
    "    Visualizer().plot(scenario=scenarios[time_step],\n",
    "                  sensor_view=sensor_views[time_step],\n",
    "                  ego_vehicle=scenarios[time_step].obstacle_by_id(ego_vehicle.obstacle_id),\n",
    "                  time_begin=time_step)\n",
    "    plt.axis('scaled')\n",
    "    plt.xlim(-70,70)\n",
    "    plt.ylim(-10,130)\n",
    "\n",
    "def plot_result_scenario(time_step, ego_vehicle, scenarios, sensor_views):\n",
    "    plt.cla()\n",
    "    Visualizer().plot(scenario=scenarios[time_step],\n",
    "                  sensor_view=sensor_views[time_step],\n",
    "                  ego_vehicle=scenarios[time_step].obstacle_by_id(ego_vehicle.obstacle_id),\n",
    "                  time_begin=time_step)\n",
    "    plt.axis('scaled')\n",
    "    plt.xlim(0,270)\n",
    "    plt.ylim(-5, 10)"
   ]
  },
  {
   "attachments": {},
   "cell_type": "markdown",
   "metadata": {},
   "source": [
    "# Simulate Single scenario"
   ]
  },
  {
   "cell_type": "code",
   "execution_count": 2,
   "metadata": {},
   "outputs": [
    {
     "name": "stderr",
     "output_type": "stream",
     "text": []
    },
    {
     "name": "stdout",
     "output_type": "stream",
     "text": [
      "In step 0\n"
     ]
    },
    {
     "name": "stderr",
     "output_type": "stream",
     "text": []
    },
    {
     "name": "stdout",
     "output_type": "stream",
     "text": [
      "In step 1\n"
     ]
    },
    {
     "name": "stderr",
     "output_type": "stream",
     "text": []
    },
    {
     "name": "stdout",
     "output_type": "stream",
     "text": [
      "In step 2\n"
     ]
    },
    {
     "name": "stderr",
     "output_type": "stream",
     "text": []
    },
    {
     "name": "stdout",
     "output_type": "stream",
     "text": [
      "In step 3\n"
     ]
    },
    {
     "name": "stderr",
     "output_type": "stream",
     "text": []
    },
    {
     "name": "stdout",
     "output_type": "stream",
     "text": [
      "In step 4\n"
     ]
    },
    {
     "name": "stderr",
     "output_type": "stream",
     "text": []
    },
    {
     "name": "stdout",
     "output_type": "stream",
     "text": [
      "In step 5\n"
     ]
    },
    {
     "name": "stderr",
     "output_type": "stream",
     "text": []
    },
    {
     "name": "stdout",
     "output_type": "stream",
     "text": [
      "In step 6\n"
     ]
    },
    {
     "name": "stderr",
     "output_type": "stream",
     "text": []
    },
    {
     "name": "stdout",
     "output_type": "stream",
     "text": [
      "In step 7\n"
     ]
    },
    {
     "name": "stderr",
     "output_type": "stream",
     "text": []
    },
    {
     "name": "stdout",
     "output_type": "stream",
     "text": [
      "In step 8\n"
     ]
    },
    {
     "name": "stderr",
     "output_type": "stream",
     "text": []
    },
    {
     "name": "stdout",
     "output_type": "stream",
     "text": [
      "In step 9\n"
     ]
    },
    {
     "name": "stderr",
     "output_type": "stream",
     "text": []
    },
    {
     "name": "stdout",
     "output_type": "stream",
     "text": [
      "In step 10\n"
     ]
    },
    {
     "name": "stderr",
     "output_type": "stream",
     "text": []
    },
    {
     "name": "stdout",
     "output_type": "stream",
     "text": [
      "In step 11\n"
     ]
    },
    {
     "name": "stderr",
     "output_type": "stream",
     "text": []
    },
    {
     "name": "stdout",
     "output_type": "stream",
     "text": [
      "In step 12\n"
     ]
    },
    {
     "name": "stderr",
     "output_type": "stream",
     "text": []
    },
    {
     "name": "stdout",
     "output_type": "stream",
     "text": [
      "In step 13\n"
     ]
    },
    {
     "name": "stderr",
     "output_type": "stream",
     "text": []
    },
    {
     "name": "stdout",
     "output_type": "stream",
     "text": [
      "In step 14\n"
     ]
    },
    {
     "name": "stderr",
     "output_type": "stream",
     "text": []
    },
    {
     "name": "stdout",
     "output_type": "stream",
     "text": [
      "In step 15\n"
     ]
    },
    {
     "name": "stderr",
     "output_type": "stream",
     "text": []
    },
    {
     "name": "stdout",
     "output_type": "stream",
     "text": [
      "In step 16\n"
     ]
    },
    {
     "name": "stderr",
     "output_type": "stream",
     "text": []
    },
    {
     "name": "stdout",
     "output_type": "stream",
     "text": [
      "In step 17\n"
     ]
    },
    {
     "name": "stderr",
     "output_type": "stream",
     "text": []
    },
    {
     "name": "stdout",
     "output_type": "stream",
     "text": [
      "In step 18\n"
     ]
    },
    {
     "name": "stderr",
     "output_type": "stream",
     "text": []
    },
    {
     "name": "stdout",
     "output_type": "stream",
     "text": [
      "In step 19\n"
     ]
    },
    {
     "name": "stderr",
     "output_type": "stream",
     "text": []
    },
    {
     "name": "stdout",
     "output_type": "stream",
     "text": [
      "In step 20\n"
     ]
    },
    {
     "name": "stderr",
     "output_type": "stream",
     "text": []
    },
    {
     "name": "stdout",
     "output_type": "stream",
     "text": [
      "In step 21\n"
     ]
    },
    {
     "name": "stderr",
     "output_type": "stream",
     "text": []
    },
    {
     "name": "stdout",
     "output_type": "stream",
     "text": [
      "In step 22\n"
     ]
    },
    {
     "name": "stderr",
     "output_type": "stream",
     "text": []
    },
    {
     "name": "stdout",
     "output_type": "stream",
     "text": [
      "In step 23\n",
      "In step 24\n"
     ]
    },
    {
     "name": "stderr",
     "output_type": "stream",
     "text": []
    },
    {
     "name": "stdout",
     "output_type": "stream",
     "text": [
      "In step 25\n"
     ]
    },
    {
     "name": "stderr",
     "output_type": "stream",
     "text": []
    },
    {
     "name": "stdout",
     "output_type": "stream",
     "text": [
      "In step 26\n"
     ]
    },
    {
     "name": "stderr",
     "output_type": "stream",
     "text": []
    },
    {
     "name": "stdout",
     "output_type": "stream",
     "text": [
      "In step 27\n"
     ]
    },
    {
     "name": "stderr",
     "output_type": "stream",
     "text": []
    },
    {
     "name": "stdout",
     "output_type": "stream",
     "text": [
      "In step 28\n"
     ]
    },
    {
     "name": "stderr",
     "output_type": "stream",
     "text": []
    },
    {
     "name": "stdout",
     "output_type": "stream",
     "text": [
      "In step 29\n"
     ]
    },
    {
     "name": "stderr",
     "output_type": "stream",
     "text": []
    },
    {
     "name": "stdout",
     "output_type": "stream",
     "text": [
      "In step 30\n"
     ]
    },
    {
     "name": "stderr",
     "output_type": "stream",
     "text": []
    },
    {
     "name": "stdout",
     "output_type": "stream",
     "text": [
      "In step 31\n"
     ]
    },
    {
     "name": "stderr",
     "output_type": "stream",
     "text": []
    },
    {
     "name": "stdout",
     "output_type": "stream",
     "text": [
      "In step 32\n"
     ]
    },
    {
     "name": "stderr",
     "output_type": "stream",
     "text": []
    },
    {
     "name": "stdout",
     "output_type": "stream",
     "text": [
      "In step 33\n"
     ]
    },
    {
     "name": "stderr",
     "output_type": "stream",
     "text": []
    },
    {
     "name": "stdout",
     "output_type": "stream",
     "text": [
      "In step 34\n"
     ]
    },
    {
     "name": "stderr",
     "output_type": "stream",
     "text": []
    },
    {
     "name": "stdout",
     "output_type": "stream",
     "text": [
      "In step 35\n"
     ]
    },
    {
     "name": "stderr",
     "output_type": "stream",
     "text": []
    },
    {
     "name": "stdout",
     "output_type": "stream",
     "text": [
      "In step 36\n"
     ]
    },
    {
     "name": "stderr",
     "output_type": "stream",
     "text": []
    },
    {
     "name": "stdout",
     "output_type": "stream",
     "text": [
      "In step 37\n"
     ]
    },
    {
     "name": "stderr",
     "output_type": "stream",
     "text": []
    },
    {
     "name": "stdout",
     "output_type": "stream",
     "text": [
      "In step 38\n"
     ]
    },
    {
     "name": "stderr",
     "output_type": "stream",
     "text": []
    },
    {
     "name": "stdout",
     "output_type": "stream",
     "text": [
      "In step 39\n"
     ]
    },
    {
     "name": "stderr",
     "output_type": "stream",
     "text": []
    },
    {
     "name": "stdout",
     "output_type": "stream",
     "text": [
      "In step 40\n"
     ]
    },
    {
     "name": "stderr",
     "output_type": "stream",
     "text": []
    },
    {
     "name": "stdout",
     "output_type": "stream",
     "text": [
      "In step 41\n"
     ]
    },
    {
     "name": "stderr",
     "output_type": "stream",
     "text": []
    },
    {
     "name": "stdout",
     "output_type": "stream",
     "text": [
      "In step 42\n"
     ]
    },
    {
     "name": "stderr",
     "output_type": "stream",
     "text": []
    },
    {
     "name": "stdout",
     "output_type": "stream",
     "text": [
      "In step 43\n"
     ]
    },
    {
     "name": "stderr",
     "output_type": "stream",
     "text": []
    },
    {
     "name": "stdout",
     "output_type": "stream",
     "text": [
      "In step 44\n"
     ]
    },
    {
     "name": "stderr",
     "output_type": "stream",
     "text": []
    },
    {
     "name": "stdout",
     "output_type": "stream",
     "text": [
      "In step 45\n"
     ]
    },
    {
     "name": "stderr",
     "output_type": "stream",
     "text": []
    },
    {
     "name": "stdout",
     "output_type": "stream",
     "text": [
      "In step 46\n"
     ]
    },
    {
     "name": "stderr",
     "output_type": "stream",
     "text": []
    },
    {
     "name": "stdout",
     "output_type": "stream",
     "text": [
      "In step 47\n"
     ]
    },
    {
     "name": "stderr",
     "output_type": "stream",
     "text": []
    },
    {
     "name": "stdout",
     "output_type": "stream",
     "text": [
      "In step 48\n"
     ]
    },
    {
     "name": "stderr",
     "output_type": "stream",
     "text": []
    },
    {
     "name": "stdout",
     "output_type": "stream",
     "text": [
      "In step 49\n"
     ]
    },
    {
     "name": "stderr",
     "output_type": "stream",
     "text": []
    },
    {
     "name": "stdout",
     "output_type": "stream",
     "text": [
      "In step 50\n"
     ]
    },
    {
     "name": "stderr",
     "output_type": "stream",
     "text": []
    },
    {
     "name": "stdout",
     "output_type": "stream",
     "text": [
      "In step 51\n"
     ]
    },
    {
     "name": "stderr",
     "output_type": "stream",
     "text": []
    },
    {
     "name": "stdout",
     "output_type": "stream",
     "text": [
      "In step 52\n"
     ]
    },
    {
     "name": "stderr",
     "output_type": "stream",
     "text": []
    },
    {
     "name": "stdout",
     "output_type": "stream",
     "text": [
      "In step 53\n"
     ]
    },
    {
     "name": "stderr",
     "output_type": "stream",
     "text": []
    },
    {
     "name": "stdout",
     "output_type": "stream",
     "text": [
      "In step 54\n"
     ]
    },
    {
     "name": "stderr",
     "output_type": "stream",
     "text": []
    },
    {
     "name": "stdout",
     "output_type": "stream",
     "text": [
      "In step 55\n"
     ]
    },
    {
     "name": "stderr",
     "output_type": "stream",
     "text": []
    },
    {
     "name": "stdout",
     "output_type": "stream",
     "text": [
      "In step 56\n"
     ]
    },
    {
     "name": "stderr",
     "output_type": "stream",
     "text": []
    },
    {
     "name": "stdout",
     "output_type": "stream",
     "text": [
      "In step 57\n"
     ]
    },
    {
     "name": "stderr",
     "output_type": "stream",
     "text": []
    },
    {
     "name": "stdout",
     "output_type": "stream",
     "text": [
      "In step 58\n"
     ]
    },
    {
     "name": "stderr",
     "output_type": "stream",
     "text": []
    },
    {
     "name": "stdout",
     "output_type": "stream",
     "text": [
      "In step 59\n"
     ]
    },
    {
     "name": "stderr",
     "output_type": "stream",
     "text": []
    },
    {
     "name": "stdout",
     "output_type": "stream",
     "text": [
      "In step 60\n"
     ]
    },
    {
     "name": "stderr",
     "output_type": "stream",
     "text": []
    },
    {
     "name": "stdout",
     "output_type": "stream",
     "text": [
      "In step 61\n"
     ]
    },
    {
     "name": "stderr",
     "output_type": "stream",
     "text": []
    },
    {
     "name": "stdout",
     "output_type": "stream",
     "text": [
      "In step 62\n"
     ]
    },
    {
     "name": "stderr",
     "output_type": "stream",
     "text": []
    },
    {
     "name": "stdout",
     "output_type": "stream",
     "text": [
      "In step 63\n"
     ]
    },
    {
     "name": "stderr",
     "output_type": "stream",
     "text": []
    },
    {
     "name": "stdout",
     "output_type": "stream",
     "text": [
      "In step 64\n"
     ]
    },
    {
     "name": "stderr",
     "output_type": "stream",
     "text": []
    },
    {
     "name": "stdout",
     "output_type": "stream",
     "text": [
      "In step 65\n"
     ]
    },
    {
     "name": "stderr",
     "output_type": "stream",
     "text": []
    },
    {
     "name": "stdout",
     "output_type": "stream",
     "text": [
      "In step 66\n"
     ]
    },
    {
     "name": "stderr",
     "output_type": "stream",
     "text": []
    },
    {
     "name": "stdout",
     "output_type": "stream",
     "text": [
      "In step 67\n"
     ]
    },
    {
     "name": "stderr",
     "output_type": "stream",
     "text": []
    },
    {
     "name": "stdout",
     "output_type": "stream",
     "text": [
      "In step 68\n"
     ]
    },
    {
     "name": "stderr",
     "output_type": "stream",
     "text": []
    },
    {
     "name": "stdout",
     "output_type": "stream",
     "text": [
      "In step 69\n"
     ]
    },
    {
     "name": "stderr",
     "output_type": "stream",
     "text": []
    },
    {
     "name": "stdout",
     "output_type": "stream",
     "text": [
      "In step 70\n"
     ]
    },
    {
     "name": "stderr",
     "output_type": "stream",
     "text": []
    },
    {
     "name": "stdout",
     "output_type": "stream",
     "text": [
      "In step 0\n"
     ]
    },
    {
     "name": "stderr",
     "output_type": "stream",
     "text": []
    },
    {
     "name": "stdout",
     "output_type": "stream",
     "text": [
      "In step 1\n"
     ]
    },
    {
     "name": "stderr",
     "output_type": "stream",
     "text": []
    },
    {
     "name": "stdout",
     "output_type": "stream",
     "text": [
      "In step 2\n"
     ]
    },
    {
     "name": "stderr",
     "output_type": "stream",
     "text": []
    },
    {
     "name": "stdout",
     "output_type": "stream",
     "text": [
      "In step 3\n",
      "In step 4\n"
     ]
    },
    {
     "name": "stderr",
     "output_type": "stream",
     "text": []
    },
    {
     "name": "stdout",
     "output_type": "stream",
     "text": [
      "In step 5\n",
      "In step 6\n"
     ]
    },
    {
     "name": "stderr",
     "output_type": "stream",
     "text": []
    },
    {
     "name": "stdout",
     "output_type": "stream",
     "text": [
      "In step 7\n"
     ]
    },
    {
     "name": "stderr",
     "output_type": "stream",
     "text": []
    },
    {
     "name": "stdout",
     "output_type": "stream",
     "text": [
      "In step 8\n"
     ]
    },
    {
     "name": "stderr",
     "output_type": "stream",
     "text": []
    },
    {
     "name": "stdout",
     "output_type": "stream",
     "text": [
      "In step 9\n"
     ]
    },
    {
     "name": "stderr",
     "output_type": "stream",
     "text": []
    },
    {
     "name": "stdout",
     "output_type": "stream",
     "text": [
      "In step 10\n"
     ]
    },
    {
     "name": "stderr",
     "output_type": "stream",
     "text": []
    },
    {
     "name": "stdout",
     "output_type": "stream",
     "text": [
      "In step 11\n"
     ]
    },
    {
     "name": "stderr",
     "output_type": "stream",
     "text": []
    },
    {
     "name": "stdout",
     "output_type": "stream",
     "text": [
      "In step 12\n"
     ]
    },
    {
     "name": "stderr",
     "output_type": "stream",
     "text": []
    },
    {
     "name": "stdout",
     "output_type": "stream",
     "text": [
      "In step 13\n"
     ]
    },
    {
     "name": "stderr",
     "output_type": "stream",
     "text": []
    },
    {
     "name": "stdout",
     "output_type": "stream",
     "text": [
      "In step 14\n"
     ]
    },
    {
     "name": "stderr",
     "output_type": "stream",
     "text": []
    },
    {
     "name": "stdout",
     "output_type": "stream",
     "text": [
      "In step 15\n"
     ]
    },
    {
     "name": "stderr",
     "output_type": "stream",
     "text": []
    },
    {
     "name": "stdout",
     "output_type": "stream",
     "text": [
      "In step 16\n"
     ]
    },
    {
     "name": "stderr",
     "output_type": "stream",
     "text": []
    },
    {
     "name": "stdout",
     "output_type": "stream",
     "text": [
      "In step 17\n"
     ]
    },
    {
     "name": "stderr",
     "output_type": "stream",
     "text": []
    },
    {
     "name": "stdout",
     "output_type": "stream",
     "text": [
      "In step 18\n"
     ]
    },
    {
     "name": "stderr",
     "output_type": "stream",
     "text": []
    },
    {
     "name": "stdout",
     "output_type": "stream",
     "text": [
      "In step 19\n"
     ]
    },
    {
     "name": "stderr",
     "output_type": "stream",
     "text": []
    },
    {
     "name": "stdout",
     "output_type": "stream",
     "text": [
      "In step 20\n"
     ]
    },
    {
     "name": "stderr",
     "output_type": "stream",
     "text": []
    },
    {
     "name": "stdout",
     "output_type": "stream",
     "text": [
      "In step 21\n"
     ]
    },
    {
     "name": "stderr",
     "output_type": "stream",
     "text": []
    },
    {
     "name": "stdout",
     "output_type": "stream",
     "text": [
      "In step 22\n"
     ]
    },
    {
     "name": "stderr",
     "output_type": "stream",
     "text": []
    },
    {
     "name": "stdout",
     "output_type": "stream",
     "text": [
      "In step 23\n"
     ]
    },
    {
     "name": "stderr",
     "output_type": "stream",
     "text": []
    },
    {
     "name": "stdout",
     "output_type": "stream",
     "text": [
      "In step 24\n"
     ]
    },
    {
     "name": "stderr",
     "output_type": "stream",
     "text": [
      "\n"
     ]
    },
    {
     "name": "stdout",
     "output_type": "stream",
     "text": [
      "In step 25\n"
     ]
    },
    {
     "name": "stderr",
     "output_type": "stream",
     "text": [
      "ZAM_trafficjam-1_1_T-1:  37%|███▋      | 26/71 [00:06<00:09,  4.68it/s]\u001b[A\n"
     ]
    },
    {
     "name": "stdout",
     "output_type": "stream",
     "text": [
      "In step 26\n"
     ]
    },
    {
     "name": "stderr",
     "output_type": "stream",
     "text": [
      "ZAM_trafficjam-1_1_T-1:  38%|███▊      | 27/71 [00:06<00:09,  4.76it/s]\u001b[A\n"
     ]
    },
    {
     "name": "stdout",
     "output_type": "stream",
     "text": [
      "In step 27\n"
     ]
    },
    {
     "name": "stderr",
     "output_type": "stream",
     "text": [
      "ZAM_trafficjam-1_1_T-1:  39%|███▉      | 28/71 [00:06<00:08,  4.81it/s]\u001b[A\n"
     ]
    },
    {
     "name": "stdout",
     "output_type": "stream",
     "text": [
      "In step 28\n"
     ]
    },
    {
     "name": "stderr",
     "output_type": "stream",
     "text": [
      "ZAM_trafficjam-1_1_T-1:  41%|████      | 29/71 [00:06<00:08,  4.83it/s]\u001b[A\n"
     ]
    },
    {
     "name": "stdout",
     "output_type": "stream",
     "text": [
      "In step 29\n"
     ]
    },
    {
     "name": "stderr",
     "output_type": "stream",
     "text": [
      "ZAM_trafficjam-1_1_T-1:  42%|████▏     | 30/71 [00:07<00:08,  4.87it/s]\u001b[A"
     ]
    },
    {
     "name": "stdout",
     "output_type": "stream",
     "text": [
      "In step 30\n"
     ]
    },
    {
     "name": "stderr",
     "output_type": "stream",
     "text": []
    },
    {
     "name": "stdout",
     "output_type": "stream",
     "text": [
      "In step 31\n"
     ]
    },
    {
     "name": "stderr",
     "output_type": "stream",
     "text": []
    },
    {
     "name": "stdout",
     "output_type": "stream",
     "text": [
      "In step 32\n"
     ]
    },
    {
     "name": "stderr",
     "output_type": "stream",
     "text": []
    },
    {
     "name": "stdout",
     "output_type": "stream",
     "text": [
      "In step 33\n"
     ]
    },
    {
     "name": "stderr",
     "output_type": "stream",
     "text": [
      "\n"
     ]
    },
    {
     "name": "stdout",
     "output_type": "stream",
     "text": [
      "In step 34\n"
     ]
    },
    {
     "name": "stderr",
     "output_type": "stream",
     "text": [
      "ZAM_trafficjam-1_1_T-1:  49%|████▉     | 35/71 [00:08<00:08,  4.29it/s]\u001b[A"
     ]
    },
    {
     "name": "stdout",
     "output_type": "stream",
     "text": [
      "In step 35\n",
      "In step 36\n"
     ]
    },
    {
     "name": "stderr",
     "output_type": "stream",
     "text": []
    },
    {
     "name": "stdout",
     "output_type": "stream",
     "text": [
      "In step 37\n",
      "In step 38\n"
     ]
    },
    {
     "name": "stderr",
     "output_type": "stream",
     "text": []
    },
    {
     "name": "stdout",
     "output_type": "stream",
     "text": [
      "In step 39\n"
     ]
    },
    {
     "name": "stderr",
     "output_type": "stream",
     "text": []
    },
    {
     "name": "stdout",
     "output_type": "stream",
     "text": [
      "In step 40\n"
     ]
    },
    {
     "name": "stderr",
     "output_type": "stream",
     "text": []
    },
    {
     "name": "stdout",
     "output_type": "stream",
     "text": [
      "In step 41\n"
     ]
    },
    {
     "name": "stderr",
     "output_type": "stream",
     "text": []
    },
    {
     "name": "stdout",
     "output_type": "stream",
     "text": [
      "In step 42\n"
     ]
    },
    {
     "name": "stderr",
     "output_type": "stream",
     "text": []
    },
    {
     "name": "stdout",
     "output_type": "stream",
     "text": [
      "In step 43\n"
     ]
    },
    {
     "name": "stderr",
     "output_type": "stream",
     "text": []
    },
    {
     "name": "stdout",
     "output_type": "stream",
     "text": [
      "In step 44\n"
     ]
    },
    {
     "name": "stderr",
     "output_type": "stream",
     "text": []
    },
    {
     "name": "stdout",
     "output_type": "stream",
     "text": [
      "In step 45\n"
     ]
    },
    {
     "name": "stderr",
     "output_type": "stream",
     "text": []
    },
    {
     "name": "stdout",
     "output_type": "stream",
     "text": [
      "In step 46\n"
     ]
    },
    {
     "name": "stderr",
     "output_type": "stream",
     "text": []
    },
    {
     "name": "stdout",
     "output_type": "stream",
     "text": [
      "In step 47\n"
     ]
    },
    {
     "name": "stderr",
     "output_type": "stream",
     "text": []
    },
    {
     "name": "stdout",
     "output_type": "stream",
     "text": [
      "In step 48\n"
     ]
    },
    {
     "name": "stderr",
     "output_type": "stream",
     "text": []
    },
    {
     "name": "stdout",
     "output_type": "stream",
     "text": [
      "In step 49\n"
     ]
    },
    {
     "name": "stderr",
     "output_type": "stream",
     "text": []
    },
    {
     "name": "stdout",
     "output_type": "stream",
     "text": [
      "In step 50\n"
     ]
    },
    {
     "name": "stderr",
     "output_type": "stream",
     "text": []
    },
    {
     "name": "stdout",
     "output_type": "stream",
     "text": [
      "In step 51\n"
     ]
    },
    {
     "name": "stderr",
     "output_type": "stream",
     "text": []
    },
    {
     "name": "stdout",
     "output_type": "stream",
     "text": [
      "In step 52\n"
     ]
    },
    {
     "name": "stderr",
     "output_type": "stream",
     "text": []
    },
    {
     "name": "stdout",
     "output_type": "stream",
     "text": [
      "In step 53\n"
     ]
    },
    {
     "name": "stderr",
     "output_type": "stream",
     "text": []
    },
    {
     "name": "stdout",
     "output_type": "stream",
     "text": [
      "In step 54\n"
     ]
    },
    {
     "name": "stderr",
     "output_type": "stream",
     "text": []
    },
    {
     "name": "stdout",
     "output_type": "stream",
     "text": [
      "In step 55\n"
     ]
    },
    {
     "name": "stderr",
     "output_type": "stream",
     "text": []
    },
    {
     "name": "stdout",
     "output_type": "stream",
     "text": [
      "In step 56\n"
     ]
    },
    {
     "name": "stderr",
     "output_type": "stream",
     "text": []
    },
    {
     "name": "stdout",
     "output_type": "stream",
     "text": [
      "In step 57\n"
     ]
    },
    {
     "name": "stderr",
     "output_type": "stream",
     "text": []
    },
    {
     "name": "stdout",
     "output_type": "stream",
     "text": [
      "In step 58\n"
     ]
    },
    {
     "name": "stderr",
     "output_type": "stream",
     "text": []
    },
    {
     "name": "stdout",
     "output_type": "stream",
     "text": [
      "In step 59\n"
     ]
    },
    {
     "name": "stderr",
     "output_type": "stream",
     "text": []
    },
    {
     "name": "stdout",
     "output_type": "stream",
     "text": [
      "In step 60\n"
     ]
    },
    {
     "name": "stderr",
     "output_type": "stream",
     "text": []
    },
    {
     "name": "stdout",
     "output_type": "stream",
     "text": [
      "In step 61\n"
     ]
    },
    {
     "name": "stderr",
     "output_type": "stream",
     "text": []
    },
    {
     "name": "stdout",
     "output_type": "stream",
     "text": [
      "In step 62\n"
     ]
    },
    {
     "name": "stderr",
     "output_type": "stream",
     "text": []
    },
    {
     "name": "stdout",
     "output_type": "stream",
     "text": [
      "In step 63\n"
     ]
    },
    {
     "name": "stderr",
     "output_type": "stream",
     "text": []
    },
    {
     "name": "stdout",
     "output_type": "stream",
     "text": [
      "In step 64\n"
     ]
    },
    {
     "name": "stderr",
     "output_type": "stream",
     "text": []
    },
    {
     "name": "stdout",
     "output_type": "stream",
     "text": [
      "In step 65\n"
     ]
    },
    {
     "name": "stderr",
     "output_type": "stream",
     "text": []
    },
    {
     "name": "stdout",
     "output_type": "stream",
     "text": [
      "In step 66\n"
     ]
    },
    {
     "name": "stderr",
     "output_type": "stream",
     "text": []
    },
    {
     "name": "stdout",
     "output_type": "stream",
     "text": [
      "In step 67\n"
     ]
    },
    {
     "name": "stderr",
     "output_type": "stream",
     "text": []
    },
    {
     "name": "stdout",
     "output_type": "stream",
     "text": [
      "In step 68\n",
      "In step 69\n"
     ]
    },
    {
     "name": "stderr",
     "output_type": "stream",
     "text": []
    },
    {
     "name": "stdout",
     "output_type": "stream",
     "text": [
      "In step 70\n"
     ]
    }
   ],
   "source": [
    "scenario_path = \"scenarios/ZAM_trafficjam-1_1_T-1\"\n",
    "results_folder = \"results/\"\n",
    "\n",
    "\n",
    "#======================================================#\n",
    "with open(scenario_path + \".yaml\") as file:\n",
    "    config = yaml.load(file, Loader=yaml.FullLoader)\n",
    "\n",
    "scenario1, _ = CommonRoadFileReader(scenario_path + \".xml\").open()\n",
    "scenario2, _ = CommonRoadFileReader(scenario_path + \".xml\").open()\n",
    "\n",
    "config['occlusion_params']['velocity_tracking_enabled'] = False\n",
    "config['occlusion_params']['velocity_tracking_enabled'] = False\n",
    "results_aware = step_simulation(scenario1, config)\n",
    "\n",
    "config['occlusion_params']['ideal_tracking_enabled'] = True\n",
    "config['occlusion_params']['velocity_tracking_enabled'] = True\n",
    "results_unaware = step_simulation(scenario2, config, occlusion_aware = False)"
   ]
  },
  {
   "attachments": {},
   "cell_type": "markdown",
   "metadata": {},
   "source": [
    "# Visualise"
   ]
  },
  {
   "cell_type": "code",
   "execution_count": null,
   "metadata": {},
   "outputs": [],
   "source": [
    "for shadow in tracked_shadows:\n",
    "    Visualizer().plot_3D_shadows(shadow, 15,3)"
   ]
  },
  {
   "cell_type": "code",
   "execution_count": 32,
   "metadata": {},
   "outputs": [
    {
     "data": {
      "image/png": "[encoded data removed]",
      "text/plain": [
       "<Figure size 800x800 with 4 Axes>"
      ]
     },
     "metadata": {},
     "output_type": "display_data"
    }
   ],
   "source": [
    "t1 = 15\n",
    "t2 = 30\n",
    "fig, ax = plt.subplots(2, 2, figsize=(20,13))\n",
    "plt.sca(ax[0][0])\n",
    "plot(t1, no_track_vehicle, not_tracked_scenarios, not_tracked_views)\n",
    "plt.sca(ax[0][1])\n",
    "plot(t2, no_track_vehicle, not_tracked_scenarios, not_tracked_views)\n",
    "plt.sca(ax[1][0])\n",
    "plot(t1, track_vehicle, tracked_scenarios, tracked_views)\n",
    "plt.sca(ax[1][1])\n",
    "plot(t2, track_vehicle, tracked_scenarios, tracked_views)"
   ]
  },
  {
   "cell_type": "markdown",
   "metadata": {},
   "source": [
    "### Animation of the proposed method"
   ]
  },
  {
   "cell_type": "code",
   "execution_count": 4,
   "metadata": {},
   "outputs": [
    {
     "data": {
      "text/html": [
       "<video width=\"1800\" height=\"300\" controls autoplay loop>\n",
       "  <source type=\"video/mp4\" src=\"data:video/mp4;base64,AAAAHGZ0eXBNNFYgAAACAGlzb21pc28yYXZjMQAAAAhmcmVlAABIUG1kYXQAAAKuBgX//6rcRem9\n",
       "5tlIt5Ys2CDZI+7veDI2NCAtIGNvcmUgMTU1IHIyOTE3IDBhODRkOTggLSBILjI2NC9NUEVHLTQg\n",
       "QVZDIGNvZGVjIC0gQ29weWxlZnQgMjAwMy0yMDE4IC0gaHR0cDovL3d3dy52aWRlb2xhbi5vcmcv\n",
       "eDI2NC5odG1sIC0gb3B0aW9uczogY2FiYWM9MSByZWY9MyBkZWJsb2NrPTE6MDowIGFuYWx5c2U9\n",
       "MHgzOjB4MTEzIG1lPWhleCBzdWJtZT03IHBzeT0xIHBzeV9yZD0xLjAwOjAuMDAgbWl4ZWRfcmVm\n",
       "PTEgbWVfcmFuZ2U9MTYgY2hyb21hX21lPTEgdHJlbGxpcz0xIDh4OGRjdD0xIGNxbT0wIGRlYWR6\n",
       "b25lPTIxLDExIGZhc3RfcHNraXA9MSBjaHJvbWFfcXBfb2Zmc2V0PS0yIHRocmVhZHM9NiBsb29r\n",
       "YWhlYWRfdGhyZWFkcz0xIHNsaWNlZF90aHJlYWRzPTAgbnI9MCBkZWNpbWF0ZT0xIGludGVybGFj\n",
       "ZWQ9MCBibHVyYXlfY29tcGF0PTAgY29uc3RyYWluZWRfaW50cmE9MCBiZnJhbWVzPTMgYl9weXJh\n",
       "bWlkPTIgYl9hZGFwdD0xIGJfYmlhcz0wIGRpcmVjdD0xIHdlaWdodGI9MSBvcGVuX2dvcD0wIHdl\n",
       "aWdodHA9MiBrZXlpbnQ9MjUwIGtleWludF9taW49MTAgc2NlbmVjdXQ9NDAgaW50cmFfcmVmcmVz\n",
       "aD0wIHJjX2xvb2thaGVhZD00MCByYz1jcmYgbWJ0cmVlPTEgY3JmPTIzLjAgcWNvbXA9MC42MCBx\n",
       "cG1pbj0wIHFwbWF4PTY5IHFwc3RlcD00IGlwX3JhdGlvPTEuNDAgYXE9MToxLjAwAIAAABBeZYiE\n",
       "ABH//veIHzLLafk613IR560urR9Q7kZxXqS9/iAAAAMAAAMAAAMAAAMABH4FZ59uA8M6OigAAAMA\n",
       "AAMADnAAAAkIAAAKMAAAE3AAAC6yt/CPOHwANZL7riLhEfccTfaO9QMFRCdfgfrzYBStv4/tVEoC\n",
       "DehOJy9/Cbpz3cvvOMwj9SykLfwP2VbVzNd2irWQcHdFHrkjHRD/g/jeOiJyJ5+EKAvr/iGVKSki\n",
       "dlqP/XHNE+Z58QHvpqUBxrWcyPNOBwfLPchwXZHedrMAWJ0UAAADAM7it9sx/2CEyS1HDx8pp97V\n",
       "al2dmm72FAvI0AbzDyC+u+B+KUEOGk4CA9N8yQ/O/XsCH7JOkkXDKFzp+9ZIViQSgpnlypgAK5v0\n",
       "gmZ6bPWl+TpTeK6h90AHdUpE91DzJrZGPXncvKu/G2WCEakJMYWspL+fF7L0mXWbf+ZvaPd4eJM8\n",
       "MCcrGMpy4sMLiS0nA8BKkwmQ7E2zzyxTxRTuX/PJ6XltuAKJRD8oSwh/34o+fneT6uplJZyDbhuC\n",
       "u6a7FOR73mUtM0R4ceT1JsnG6sra1QZxu0DC+Z6wEp1f8Mzsg1kYVt7RQE9POVJgAi/DqHfsmmQR\n",
       "wrDRIR8PsZIuuT/SynaXQ7+d3FacOypKs3FeyvDsCn0xwv2DYB4ZeC1QpOUlijXHaiz/PY6S+/OB\n",
       "fpuuCHhKVFU4MrmTbZ3QLlSjyD5fkFLTIOx0SzqrPspW8FOpMkvo+IHF6LkyO4fze6bf3twA26b7\n",
       "j6FIo95+oFYAADBHz8mRVR5J1Z32QQMjWxC+E/Cf53/myB+wBbFAcjvYY/qTfX6AAE9n8Ww+lDrK\n",
       "++uchJ/aLaPAuAH6xAB/lzQO3w2g/O+22z0FLTZUpvwPfbw6GVEAC84MCysKf5aKbK3/9ambm6CF\n",
       "yTizXiMGLNogDpoKtvKZka6ht/f0ar2ks7MdhAtvkrv+0T8/AucOE7YdKcXDeArcRLwEhcAhx+/e\n",
       "7YfJk8JP8XskZE4Jvc+XEZkjAr5hmXtKECBphezR63NEKMkeUCRAZ/G7c5Yh5z3Y2p+tT4eCRjei\n",
       "DVwlT8/wGYFPRhyTPB+AAyKPR04kTeBcOOZX03B8k8KEjejE18Kuzog6z4WKtVt2UXPd5WVR3Wt7\n",
       "Q3jOP+AbXa4S+byNIEwgzQN6z05aeWWbMIEDH6xmEbVKSvxEDQrPzFH5uk8ZCo226fElYjUP7AT0\n",
       "j5zO/ieel47VqUwRfwqE0SZtm/0MqrjZaY5cgIWtZjDk7ddKxVJgDDT7jU7Fnd8mfn7fNKNGRbOd\n",
       "zU/B/21OhFWMZoEmgtl5+XlhD7BcAly7tEABbz5zaSmgMm7X+HasDJwkK3/IJ+7dKwtK6QCmAAPz\n",
       "+ZPqzmCIDexPDOD8Pzi/6E4OLRCtX8RbpYCoPQ4XXR3MO/5uj0z7nnf8l9Hlf+Wr7WhpymSURr7g\n",
       "biCwzQRB9jnxWR35nr4ELFWJynhRST0x/zFhCT/bAPSARUfQdbvlcgHVLWirc20uE+HDlCT6IGX0\n",
       "DpUc6OlaEMoxCOL2Or4Lu1HXjYasStiYu4/t6crANzezqCSa5tZ1/veVV4uKM38y2PkgLIkFI5jr\n",
       "hKRkh0eAM3ag9V+eAgrMYcqwIYPI3hUCgCg2Z8Uvww+a45wik0IMBagff0TcfS2JiqUONl8a6+4J\n",
       "C78BoVnw5G2e4IrGo0GQ/eibU2CXZ0NqOoP5UKkrWAYRoSguQxnTN2ZNJO2mPhJ0jWDfdwTqg6iC\n",
       "zrqgJeoMOOFCfcn/t01VZYLeWp1MuE0yp/rIIZRgdbJa/0/Ny0CYoVFOk4QA7/2HTpsjlcOgMDNe\n",
       "0B4F7qWEaAq4fVQKmDckEB2hD/3Q3apBER6Owk27wfRfpgSgMNPXDJYoRQF1QjCg4lbhaPJBuw/m\n",
       "3MgZulxUlA4qcgcwxFmC4ISMF9JcCfUHDHLxDV4Hct0AsF9s+kKNba/6YE94ztHeUkCMp3mYAopH\n",
       "PVyZO0zPOumM2ilvEm4MgN+TO6kesKnlMnngvCiu5VgOIDTJ5lYudrfobTg+qiXzzPjCjNZuscQr\n",
       "p0fXSIzBTWLbv1r8CbC/f43StqSWvk18T5uqCXnXsAcSSn1H8nq0C2uQmpnUddzlzRLogOj9e559\n",
       "iUh4mBFEpLIKZAkgixxQpLGJAWZ+5Soc61xeYRgoH0KRoLQyGwnj/1XwTm9gWQ5Yoi1WnBxbHbYx\n",
       "YuA98pSenpmgs97bsb1QiB912vWzvDahRH2FzhRIhxWUuWYpUIz5WJRJHR+jMzBoPhwRx8/Px6s1\n",
       "JWQAZt9boulRCQeEbLjBFYPEM9NirzH3Kabyv90CNyY6rVCoD3IX8k1ZgOFg0qMNPwvGNGFiKV+i\n",
       "SZMqqOOfmehjT3fSqK1vv+42I3yglCai1102Rb7HSnk2V5Zjw7QEOrFeisP1y4pXKy7XITyeF9iM\n",
       "FdjGmzdDGQS54QQfX5IzFkFgz1RMyMgxP4jDRnvA26Td3NV5TglhA1kzWNYW68Ym5FjynXsDREME\n",
       "vB2H3+wg9SghLewT+D9xN4joc8WNWezW/9/oEnIPSgZK1qeK3UO56foBGxW17T2AfZ8V822RgfPB\n",
       "8b/QpcUtbdn/LAljnjKIaJa9oBk4lVDbysZCS+yuiF/W2t8UXlrARk269eziJDuO1m1XOFFJDbH6\n",
       "6HwUJB3RaP54sI3IzTnpr3BFveoRLwCHiTeTkwV1wpPkCQ69JIfyc/ukQpMU02n1taW3TQQlAEQf\n",
       "4/YmsM/hAXbAQ8iost4+RhR3UuqZjVdbVy+PYMgZp0/hzJ4xgLBg9AxzubkgmOPaBOhB1IRHCH4K\n",
       "4y8jL3UeUrqdV4CbJGz+smMCB2mZblF0XiwoWwIwYQKshhJ+GKQsH0F7/v8wwmCr9ZZpbr1sQfZg\n",
       "EV3D0kyfuMs5Qdsgj9EqjxJtIQC2xv0E2X9IBIPmO5MwX3MbaleYvUI005FDCzrj0BjhsjvUQhzK\n",
       "6hjykIjc1SBf7c/qE7BBB3/YUclmtPnuHL/1ZmKMsyeTkDXcRIXZGCkXfTArT0+Ch7wsPZUUXTyz\n",
       "LGm2k3S20hCAdLGUUd6mxLkQrWUwicXSxv1ZLwz7lt2MoMq8Kl01mRd0AHNzO68jFgRqowZEZQ0H\n",
       "A4Hm0VqXsvx9WXVEOIdHOoKDo3nBDmVvdpwsIDAY+nR6rzZG+MltOqHJew1aQsiJPrAfVYgHg5rA\n",
       "Rfcu4knVy9h0r5K/7R+ot0F94PrzDalsfuW+nSSh+aF7K9lRqi0L/6zzFCPmWopkYp4GzcOyQXPS\n",
       "nvo27rPfS36hb4OSVeDvAfoGLIv2/P2hjtnpwy9SI26exkbIH1Nf9sCqWrgkZj7XOv9GQjhoVw53\n",
       "0ZaW4um/9UYDkq4QyvaVUvOT26dal51Q6WiqEsd9G2MATrm8jPvkoqklbg7KIoOLXyPhwsizd6J+\n",
       "RUP9SL7b8jO8ujWZAqZzkXyDuUzsYhI4if1P1a64MgqfyR85vGiR/X5X9v2S9jxUiMyUc3LPb8vD\n",
       "BjL5MWj0BJsWPUB0p4wWQCvvzwSEZuXzi1IuMCnMclZvvujFGjJS0TqwMOVdSHKvhP5eQ+bLQ0CY\n",
       "WrB1bFbV+3tcGqhKa9N3SP8d0sqxquIqZrSu0YEzj9bLgcq+Pm2lcs3xI/Q2fVyrRnsIJ6Psi6PL\n",
       "6z2R0qhKVFWYj+udR+w7DKP7YR+9xrVus4/9TF2Koux8N74QjURLvKqc8DGD29syq9lmSEZRXYDE\n",
       "UKdcnTDho1opnBB70ZfHWBXIH2vMZ1pk/yVbyLNddIGTI5iuR5lTCXOR45CmjQKcesfylPIDF08o\n",
       "8FzuzVRU7sIh+sXBGovG1VmpL/qJJb8fdg0vJiOzUfTVZ0qMkxzhK13DAnAeW8HiQq6w2ZaU8cgv\n",
       "EM2YvsE6glZN5QOctRVOw3680BtxY6v6/LMWNTooi0nZ9k6dpk9AGrhmfRLMH2LSUu16luaNy0Ij\n",
       "xq2NP3l5gjC0NCqrva343weQbwCap+XoUqQNEKKSP9PkYXzIQ+FxnuwI3dWhWNe0l8x/+1b2fJ7R\n",
       "qe+smGGO3mplgnzoNUWV/U8MbZiXCohB6WLsIfEUxSrTaIl2LQpDFtlfIgO026t2HslzgMNJ2yZT\n",
       "x9183OHTgcRB+95Ss+PNqK1E5QFgCPTP4XsEKPCKsSCwrvj9LuSV1UKlEVQGbqoVQlL7pMDk/9gt\n",
       "ag/na8pXEAZ82QYVYhy/s+MPkfGXiJYsLXgx9Tyyscn2AtTtoKme6tV3Zhmg1wVKBlQ0sF3mR80a\n",
       "PhIzKX0dI/O5aMTC23QUethN8zQ8tgNh/XqIaXkkn2p4QQ/gVqIpWtEbniI2GJnNBQHUcGl3pi8E\n",
       "CT/4IFI66801P1xU9WB+NtLncTHly3AyLvEJ1NbsZbgSHH+n1HDUDBYWvgR8tNJKS8wR5joV9kn5\n",
       "hcOEPp0YW2ApySRFnZtWMEIHc9S6U//6utlIgLMJZvZEbDYHKA7l54pfTBUjRT+o4jEcvc5PuWva\n",
       "gBCRnnTgCo02KiQKnoy5fEzj6Mwt+MQTi7kGNnRSNani8GG7O1kzHNh04bexUmDHy+BE2K/xxj1w\n",
       "AFjLGJxGdzxS2/5A09qmHydmFaOfJYyz+pB/XuqNxCcfVv8znW7ue23lVO4peX8vZVXnZl+sTRik\n",
       "iq1gGYkh2LE3Uq6qQc88tPFA4t+nOKwGABEJZngPjMNG5Yv2bDnUqKEt4p9PAypu1+27YY1to8y1\n",
       "f055bc454wW9C9Ian+7KFwNgiMiiP0yVku2KWSXpfN5vqWPZs9VxvCiVW8grc+31W09/i9GREJsi\n",
       "ELJN5+cALpwuXHUlZnd6dxhgCXTUCB3LAbP8ugn6eWjrapRpiyxMeVHdi+Er40DjcuTsNcBxOfYr\n",
       "FfnRDorT8l+n/ftRz5kDLeEvlfOzEpg8FeLgix67bYubgsX2W/UjvWbBgvuk97NDjO4U8YSQ/0kZ\n",
       "31HK8V8Ixn2gEzifBxM8nBPjrwvvi2Fl6Zaue9mnWnKvT61TUkTfS+zRF+H5tWpHQLX/fGFesBNS\n",
       "UdBm7biBdkr8wU6gqM61eIPFl+sW9ox1+ADIbdCsHl3ijvE17G2pcCeS6AE53KzATqHvFIcSCSEl\n",
       "xY6oQmtWWzUB1b+vH0USA+O0T3ZCPCRKlmcmK5KCcscivdXc1DhhQYSuW+QKtRFH9qbc4YvlZOAB\n",
       "+67OvyaWHTUBiBXXXu7lLHvambQonu+32fLX53xxH41Hw6m2gMgp4QCGtFmjAB+8rm4CslAE3Qbu\n",
       "A2Q5RYQsTfz/+B2XPWqr2ZgZzQs5/84f9u4Hkt6yIvjLS3Y23XOIWjnXexraF2W/tk+JmANv0XUt\n",
       "oA46cOLpqVEabWF9vnArUvLD2mXfrH4QbAS0uf7WHA0NebYUYl1dvsDCf35V5KbMdeNQro0grvwU\n",
       "Lbk0t3UirnQmpCxDVve5P1UXwD0HkDhEUTBMoo9Dny1tTv5Y9jRWoV9ml+p4x/OEO6g8qH4ILEFQ\n",
       "33f9Dyi+4k+yVhYGsvoUrjzLMYj4ULhvtZYZsh0jmlzxm4it8pmWVwiXsH0AAAMAA5olnfDfnQAA\n",
       "AwAAAwAAAwAAAwAAAwAAAwAAAwAAAwAAGREAAAEIQZokbEEf/rUqgAAAAwAoG31YWWABE1xgW0wY\n",
       "H/H6QlIXrbWyl95LCIFaOq/dlZjXP2+LFB6X/4MiRMVTOfTqTh8x7lPzRh9r3yVDrNPoJPraBhRt\n",
       "7iYqOLgOTlCjri9qOJYn9BOEom+lzLPKzREQQ20xdD6desCwtIbZUj5+Psl5OzaPIjCu37z4213K\n",
       "faPvCD07vz3Naubgc9KIVjfF3qGS6znqNOltFA5wmy1pHSlgBtatpGsAWVibyEK8/LgA4dF4KMhf\n",
       "C8vyYriv7zI+5MIZrfsuTLXXYcj/0YbnPxOnkbt5LZiSe6CgG+O6EUwimdaYNxGUPZFB+KT27rOz\n",
       "huGaHQLpQAK+AAAAYkGeQniHfwAAAwAAm//ykB4P/QAXSg1P1O5cB/knrQvjpTx7/HxzxKWZ04Zh\n",
       "9JgOU7wUyzFj/U/VBamQbX84sSeN9NverTHCZ4nM4oYXh65gbnqfHst7nvVupeU9GUAAAELBAAAA\n",
       "PAGeYXRDfwAAAwAA3PV9Kyb2S8u4vcwIwivpGssjOeEn+0VU0y1ClY74CLjStKrkCgIm4uKqBMq1\n",
       "gAAVsAAAAEcBnmNqQ38AAAMAAN0XX29i73c/4LTuxv/3ubd00hx/ve1r1g+pVdPI9ZRCDh7Kx3/u\n",
       "8yA+6v7X1Vmh1bL6HUtThwdAAAC8gQAAAQBBmmhJqEFomUwII//+tSqAAAADACgtcPpoLiqACljo\n",
       "y52bx/+bE+siYppEkrA3sBNpOnvjfMCRCcHBYzpPvYIkkCgOhdtdE57rOUkI6O/PB+1qaRDO6BaD\n",
       "VesQA25INoxaz1jBSJo9P3HGynkA/kNPfHtFYgEGLzbk9Y4lzzYAqZ6QCREsl30GPOfP+zsO+lnu\n",
       "Pqnei4Jpx8UVpDAp7HeE7yu6bp3yjZOp1rfgXwC9W27YnUSIZuVTMG+wob3fW3XAdEwMmZgrnHKE\n",
       "XjyRoOjdIToe+BC6k8FnM3jh0Y59r9kDuh8xgk4zCP4YtFBbMVzrQr9xZjPKFB0p9POgdz2zAAAA\n",
       "XUGehkURLDv/AAADAACcOSbJ+4aoo4KV1KCPl/G0O/ggTbXM6U8XVRR9gjAqtiE6YoWA22YSVrku\n",
       "2wrmDbTSrQw2123/lF6sLBHrkYpqGMjHjylhE7E1pau0AABOwQAAAFQBnqV0Q38AAAMAANz1UxJP\n",
       "N2BDPtFF556ADPAUmeg+24W1ubFt0OyJCNyQa/+Eke8Go8VdYcPu6PiFlswFCmJpx565PrbeRvu1\n",
       "Q1Bd3pc/u42AIuEAAABUAZ6nakN/AAADAADTE3UlSedCHgM2YKXkhm46MUBFJq1durAKf6W6mqzS\n",
       "zyxSkaMxABEH/a7pNOZm3v/ufy3erLpyOro3A+vHg+PBTaspv6p0AEnAAAAApEGarEmoQWyZTAgj\n",
       "//61KoAAAAMAJT9+2T1Y+F+hx9pAACc2t716F5Ajg4LGg5rJ24sFAc8kcFrNiupOBoSc/x8/xcHf\n",
       "7Mqf0z0vDsfgwAqLdpyD5T1ML1Z7O9pHU3+eJKneKNxnzYgaJchsfu7q14PVTPWn2wHaQcUmbrOt\n",
       "RcvQvamo0Lc/KYEOrYkRu8pzIO7WUDKeTI3gwFY5sTUrwswlku0YAAAAYkGeykUVLDv/AAADAACQ\n",
       "OShsWgFoLjCOgQnPbDUrWJz5zekqK2YpxtM1dyPSGZepYo8UF5huKJbR921FIoaqsr+bkER4kYtF\n",
       "5OpVZ8SIxPG3Zcub/Q83nEyWRWE1uvJAACyhAAAASQGe6XRDfwAAAwAAzgqK0o1W7AftfJMQsylp\n",
       "JG987kJF437IjfNyAYRdTa6Mgg1gkKuUkdgbJP9AthGuFANnHkwc139VbgAAE7AAAABKAZ7rakN/\n",
       "AAADAADEE3Ulfd0NZwHsShdvBEZOARkc7zF6uLYVFW6ZdegKO4JomMwikN1QNO7Ja8A09fegM7k3\n",
       "W0QQYSv6o2AAE3AAAADMQZrwSahBbJlMCCP//rUqgAAAAwAoTolcQAR3wSYPsfKPL+LA9HigR5fB\n",
       "AytuQglE8zxwneCJNLlLFmf4nRzTka41nbeThOTsU2SvhqNXzRYYp5rtPiAajlGQcFjJmwl1XtMW\n",
       "H2NWWEG/1UkBNBvWX/AVDcFN84vKe93ajGcfmW1QuStqPxGNgdEEA0Q6WWPRB37CltHuQtOUhKfb\n",
       "IkmJMfif8QtLwWQOni7OCPfJMFJovC99s36hwTTFTo82dk9zzcFA0a7UlYUAAA/xAAAAbUGfDkUV\n",
       "LDv/AAADAACcSAvNQE9VVqqY9XOhFCI0gBK1IUj42rgaOJeZQAZKZN/tnh6WfiDcV5gaXSKr4ILu\n",
       "rtNjf6TbaiB+9BpdBtnLlekG7JwMz4q9lCrxymlVPgaj+QP9ZDIhgMueVcAAGrEAAABJAZ8tdEN/\n",
       "AAADAAC+9VMRUjdho9L9ETHSz+6TcfdH9qZb6P1XjeNyv8zhnblqW8bLxYWKGjLT4sfL6/D7pwSi\n",
       "xnsKG9lCAAAFTQAAAEUBny9qQ38AAAMAAN0XczSpkQmmQefsNQflUgmNdZYOSJ06Ss2/1YiOtx6X\n",
       "ehK8YVa9jbzWFZQiGP7LKJEwvEYooAAA8IAAAAFJQZs0SahBbJlMCCP//rUqgAAAAwAoIfmwCD3C\n",
       "rZllJ9nDj59nI+mZTNO1/+CBvK0HYmJfsDKsmwyZZO1qcp8Rqsh8ejSglfRzk4/edP0UuDtw6Azu\n",
       "0ogbb/HgBuoJPkFhZsLi9eyf1gW+JrWfNvSCSrT06y+3rVXdyglUrlQHc6ijk2PKZkb+v1/0wAu/\n",
       "zGuKBnfOhPQ6V6G2QC73YiGcXl01sle3k70jIQAx6RY2cfDoT/l0AW5yVKIr4GrIDcPgtZhQ/aPz\n",
       "5P5PAnTZOWvSh1h2qiolbOuxLCEJCtYzOQ7u0/tP+y7sflaJqkoeT873c7hw9GfFWOHtWcWXJr9K\n",
       "Z8TfE2+0iFCGxX9LbHBkG0Hr/JrDdiL61MB4za2iiFpBpuX3+vp8Hi7ZUi7/PuBY8T18Y/vVJr7d\n",
       "43XFOt41TbwrL/YAAAMAAZ8AAABrQZ9SRRUsO/8AAAMAAJw5JN+YP8AAr2YKuS4a/AErD9uzQqV8\n",
       "u+G2lfhZF+aGtFhvwZFCm4TjngmhYtYIDtBbYHrL7Lup4EuLJ6Ll72n+31+twgr6QCC868GjcXlI\n",
       "8Q8cWCJKdUaWqAAA6YEAAABfAZ9xdEN/AAADAADc9s/ABs9FyeesG6PS3Qm9bGvNP1Pfu4oQMQZ8\n",
       "iKB6mctLRNA6PlyKtdngVkPSOQEzQspApS2gcvIGvQRQXnBtESJ92QIA5JXuhR5GCoPtgvAADfgA\n",
       "AABOAZ9zakN/AAADAADYACR+QojCVTk+dAkiWpn6a1muxTbxfjXj142q1yLFUEzzrrEAYK/g3mgc\n",
       "GX1rikbBXZ5f+C5hSqyW85Ak07kAABBwAAABE0GbeEmoQWyZTAgj//61KoAAAAMAJT95dnN/pVQA\n",
       "14kLfKNEjHftaKjpdtmKi9X8TwIPSOr3CBF3uqF9bfj1HIRq+HPG+BTTPuft8W2YMhmAAPqzoRZ0\n",
       "AgUvA7SmacNYAO0EHx/1CEKWNvrp7EUT5GuNqLypCOipr+MgD5AqIcreyybGkV0PYp2cFoYVkK2L\n",
       "OTwnO9qFIwCAJmGA3+9M2u0pEmpwa0Y53E66orTMULWI9siKsqFg1v7CGUu5s47rImc2A2kGie+v\n",
       "I2yrfcnAGzUL/+WNM/u4RnPjDrxAhFPDZu0o5K+XazxyIu3Wmx2rVvFxikjdfrJrHJWz/tTE18+M\n",
       "DID95qxuvzqzRGp5lwypbfmBAAAAfEGflkUVLDv/AAADAACQOLwgEpNcswmkVXnAf8sZM4hIMywY\n",
       "5Sh9AvCZyCBmWqmw8oLAVOdddn75ciDQSo4zBVj/2c9CtQeKH8C497ATw1gDZ/50sbR+aZvMazkM\n",
       "u2J5BInx1yNkj92fCeLfIdv91YyPifcNNM3gmAAACbgAAABVAZ+1dEN/AAADAADOGdpKsUKEI/H7\n",
       "o6KbBwJJ5jc6Q+aqgJIsEhd/JAVdQSgeiNnAp6JCFfcR/DQeW9xvnBPENBjBqW/m3bGztj3wWxVu\n",
       "RXUQAABtQQAAAGIBn7dqQ38AAAMAAMkAJIGFHkxwMw8Tm9Jhjxhx4naEbDTtVvxzYDSMh3wwD5PZ\n",
       "av/TzyQeqa3QHO7S6QjSb1J/Jd4ghJBAZ/j3YkCzT0z+iuE0PJC0HmvxhVtqRkYsAAAy4QAAARJB\n",
       "m7xJqEFsmUwII//+tSqAAAADACI/ea/Zgz8wrdLNHGJgO7L6KWlusXtobOwSflDmIrpPUrAmT63i\n",
       "Ea+OxUfoFFOXZRZCyqQdfqy8BnXVbRpHNgMNm+rOw6YJ3er8IiafUnXzief3EGACuoQt7FHfGjhp\n",
       "gmZKpx4hi9EJYrZZIVHUbebKs0H/l0vpT/j77hvKx8sDbx/tJQTtO8rtNBulnr2bfFkE/lFTXwQc\n",
       "WsVmNLBGU7yk1cJL6JsOsk0fvbS12X1glLBu/t0eDwEfmRt+Mgf5RO0n7HgKr4gvuJc1l0POCZbj\n",
       "HC6fb//hFWTtmO5o4YX99SEgRqGrQqXGLXWO5idrmDdLDhFLkcTboHZv7/J8AAAAj0Gf2kUVLDv/\n",
       "AAADAACEOSbJ/BDnqrXEHXEpNXeuTe8m4O4JeYw+PitXPDcKGk3v5pBwJQnIwEhTEeDD4uSW7bXF\n",
       "7LXKAYjQv9K1pfAZStgj6n4PQV3M6GOw4ewYhLwZhOa29nP72FG7cIrBntNjnWSaNcyGqw+m6u42\n",
       "IZ/GcB0VmlG+EHfutxA+oZIAAAY9AAAAagGf+XRDfwAAAwAAvvVhLYTCvKQuC13KQbvU1g7HTT1c\n",
       "HdCrTAq2XIk15Xsv+BAjKoTvc3EcIZ1k2BoTuTFrElLWlK0m0dVKQBzm0uhvE/Io2rWtHJsagJQC\n",
       "MR/EyIJVFB8eVGoAAAMA7oAAAABwAZ/7akN/AAADAAC1p0R9LTdElecv+XTCJl6CjaZYFf+0Jl1l\n",
       "PIgJf6CQHjfRNZYsnglPVPz1RKZ0yided6pXlwTIUH9m8A1AVNoDXU3woSbKnuxblIYGyHhwNR4k\n",
       "3Ve6V7TMS+TDFTEA6AAAAwAdMQAAARlBm+BJqEFsmUwII//+tSqAAAADAB9fm6GRDESl4G0uja3w\n",
       "Hdl9FLunlF18T8AAlVXmnN+T5xi0uqyAj/8aXJTILjWtsbtgbf72Y6clAOZZEIChCCYR2qr0Yh4Z\n",
       "qEL8OeeGwLq14tS3s6o7iKEvHYWx/OeYAg6yGkxAJ4DeicqwV7m6NKkSYbd2TmBYRtgH31OlWgfB\n",
       "IhKpShmD1P0froFvcHaErzWimWibWoEbds0Hio2fiqKhZOMDT3dnweyRs/jsryRsx0FnTisYJwJU\n",
       "rYmhFYoan+5ZsDWE7DQkY9vmQKRX/yZYxC7E5zn59XWrdz8EiSrtUTfuQE+dLqyEbYss9nI/vX2H\n",
       "HAkSs2IGB4iUteN0fkhMZQ4U+QAAAKdBnh5FFSw7/wAAAwAAejQGz1ejta6/0MZWQvPFmqAD2ads\n",
       "YxwQjThXBag27cQY6g3ocQrPmFUGGR639bWfgelqCe7xSc0rbcEjNnxY+sC3l5IOuT0Db2K6qhMf\n",
       "RGRw34Lf+FRZoZLD7bCQ2eqBqMqPPISPmt3opQ6UC2yOpOva+BrYHdaea023qRFzTWiospMbC7rg\n",
       "6GA1LoP65xMtn766mQ1AAAAdMAAAAIcBnj10Q38AAAMAALEd2hstUNfNYrt+OreZJNr9btpJEQhV\n",
       "pkOkOtzCOlJDhGBJUJJxrUaqjaCTHhq6gdLv0vJJeJ7wMy6+GjNQ4xUqmjgKjnDE+marisl1s/p9\n",
       "+m26V9Cfx+bQJvsCc+fS0mzrq7VXJqV4R1AjY7LBvT4REwHNV6tA+AAABhQAAAB4AZ4/akN/AAAD\n",
       "AACoJ1Hw6KXaZswsRGgKyaeUS0N4Sswl9CI1jcjziZdLHO3eMVOyKhHjCkQU9hnYyJ0KFSXK3YrI\n",
       "3kTSuuDwWqPGuk9FNFeEckiuQ3y0PimLpsVP1ESo6m2KBAMpha/s769cK19jMtBggaAAAAVNAAAB\n",
       "AUGaJEmoQWyZTAgj//61KoAAAAMAHU+boZEMRKXXab3Md1Uxz5NJCLayDrx2cjPjBD1Y6D+ns+Yu\n",
       "SBughcQMUQI/HEB9V+eVyUCMIPiE1wlYfCvNJeK2LgrIe/OhrXIw74XWvtZKHYxJxjFGVKYXkMjC\n",
       "ywYpC1I5XP69lav8Mj/zgcPAI8FiDL/8FMoojwkvPyefQ7b42FeTPTF5j1FD71zy9nYhmDqfZ+sU\n",
       "3gK4DrqpPiPzd5FXtNbowl/okxrGGmHP9fP5ES7U8HCjrIh1sY1OrLqyFdikxPF+JR1yWoAMhc9Z\n",
       "a2OAh43h/bdToRoLjXKw9q7HjL1FIp+o/6x8u0OAAAAArkGeQkUVLDv/AAADAABx9AbJ+9WQ8F5p\n",
       "BQF/qMBf/YSDDDFsG6BDFGtd6vqViH8gQNtSp5GcGoyXpAZTrQaGDATqmFvph42Erc5MLf6M9CcE\n",
       "8wBiQ6wD/x9yUDaVG21DZSh+p5r36vKPoTNNUMkUe3RkL0m1+ZGFklIeRlwmMVNGRtxYrmNy2MNh\n",
       "KN54enPY3rjI9YqxKTyRx5XlTjJFn+viFIMBKybkfLwQAAAEjQAAAH4BnmF0Q38AAAMAAJ8ehYAB\n",
       "Kp8bBLaQjaC4tq3OBBKnP6ZPr196vKtPL5UbMfYt+RfqhTw4jqx0D6eI1m5k89GoPWGN9jIDjPbG\n",
       "L+PHaf7xkYLRcH0zd0126UnDVy8QHUkjyi0It9+00nnJQ60GLHzO9ZaJhTQZPoiUAAADAV8AAAB+\n",
       "AZ5jakN/AAADAACaxkeMmGjd2rV6N2uzZWwB7f9p8qriqGuyXQlREdni/EdoSLXTmOgv6GDfoZiC\n",
       "Da1na3qXv8D8Bx1+rB5DxXGVrDRvLafWIJ2P+aSFmcGBFQybMCoG5GfDv0zJ2+wPWB/X/AAhKnzh\n",
       "AEokGdbCaAAAAwO7AAABUkGaaEmoQWyZTAgj//61KoAAAAMAGq+boZEMRKXuSzbOswAKl4C/5sAC\n",
       "nPFghlRyxgO1n6KzvpO6G/t35lLsKYNqKMg4LGZmSeUBtRDjKPZjjHBv2ySVrsqfbT5aKwWALpBB\n",
       "p13lMGXhG3aoCmN/sqGeA5LRIUXZBdgpYwiBoxU51QsSmPWElBBlO4t4RFK7auEg1ALgZYC6Hv9s\n",
       "TmDbKAsOWnZJW1py64NBb5G9T6K54ABXVYqSt8zglbAAqDFAMSblDeBNVmI2dMccGR+UAOgpQBMz\n",
       "Ng/Wag4ndtvsYtAx774s3NuSJTub+XGu96CJCrh/z/1bEtS+Ahwse4SjOfxchAsNkWVJ6deNH70b\n",
       "UHlXVi60vysKSPtgnRlV29U4KD/xjN6QMjSU/VjOPWnIpJeyoasEsLRpPLWY0PamXVw69XV9wqQE\n",
       "6jnKHJ+iQX9OVT0xAAAAm0GehkUVLDv/AAADAABntpbFviBVsCCB0MpBy53QUHS0ff+Lk3K//qdf\n",
       "Xir1y75N3UkbirrwpVSF47oG/ejqmY5AgwGm7houSo0IldyMZf/qBNeQ1Z+LFCMG+ov3IoFjGmt/\n",
       "nndeqPMb3qdr6P9Z9CG9KN2teMnCS9jt3K8+lxhSuIwU54J0mJOk/aNK0+3Q2Ymr0mvGAAADAOqB\n",
       "AAAAegGepXRDfwAAAwAAkr6yiWbcCWzogKZLvl0371kkVAj98i40nylWAqMcbqCXBDuhwv4qC8m+\n",
       "S1a+vYxQGdsoJDNWt+SS26DBN+VJtbPknggWHm+7r5ChaD7sCIpF1nqsZxZhTlPN2Mg4GZc5A7aX\n",
       "1Nh7AsTsKRwAAFxBAAAAiQGep2pDfwAAAwAAiuNHyzZRKmjRL5BfRcg4yIkBjVf5Dwy/pqOoDqBp\n",
       "nY7ZcDkW8X1Ug6iBV9r3SzBGTM5H6khMvPXJU+FMOaQ+sgLqzBWW97l7fGY8lHuoKHaBO/Bab09b\n",
       "42kajBwLrPV7xq3kBU+1qPfI2TQcee9xahpFWmiMuieFYwzgAAEvAAABqEGarEmoQWyZTAgj//61\n",
       "KoAAAAMAGM+boZEMUtAzUPVEkuIABfX0LLh65QlQ7IBYhy7EjZQK1N9o4gbjrNeExJDcf0IMfhhZ\n",
       "za1VfibTTrjKeW+cRY5sweLfngZnuNNZ12mfbURy/gaHBmorKOfl5IvQq4nRXpPKUrCGzCqglw+G\n",
       "s5EbYiBruP/HPAKciNYt1vpi+uWN/BFTOgta4iulaVWWsRPjgMAACoWBReCz1MDpDbIsH2Yr5sLZ\n",
       "3YX3tDuE42/wgBp3LEYzSvmSSAQhNWDTpqnyAAlxj5bMXx8eMu5xnebVhoTrvw8efBwTHtI4YRhD\n",
       "GKHEvBelMGj0/inv2ep7MExQTuA/pxfjJVIAFebecjUyZvjLm1bjUo0S+ZqTPNpk9FgYIOiqB/EM\n",
       "yDQSohzqP0y7ElMryCyjFxbmNx+LCN+xxAjY/FtxUDU+3Q/qhH1fgsUxVIZgwhA3Qo8roQRdIAkp\n",
       "7NtEuHdkPgPRvKBHkUdPYLwjXdB/COxI76/zMKJ9jDAXygwOhtSHTCM3A1k0YvKViXEUEzAw8Gnc\n",
       "qFTEDXiLFcjjGkAAAADGQZ7KRRUsO/8AAAMAAGA2lsu9kZCWMYBwHjX8SkZy4LOHLwlUWPX5tWfY\n",
       "5BTxVJiZaQJUBG4wJ4dRmKiASpfZ6PKoxrEM+2foXaRvmKdNw7sTbeX1boPpQAlmiugmtKjO7WZG\n",
       "E5uqtsTVAmYHFNYfj5j1wX9MW8mVfrtrG0eN82dpwDqO9Hc6QBO+JJrBCgnF3/u6b64FrWve1kg3\n",
       "ARWhauUyeY7FyrRmOORNwCPXGCu8M0fWs03yiLWseskVsGxmBAAAAwGfAAAAiwGe6XRDfwAAAwAA\n",
       "hr6zVO/j3Q7xGDAkbzwPrAn4a7mIGTt6aeucXdnkAFMUrZYnsRKzZyoJmmwBS9Jz/4xBR7SGYHRV\n",
       "0HnZBOeeIVkrM7xTMRPFj+4xuHaREdScVbCajEi4jVxZUJh9QDMdxQD1UYz5i8nxktdJIiMMBSKZ\n",
       "V87CxWD8hJYAAAMAEXAAAACfAZ7rakN/AAADAAB8O1WbhK6ododWULe9azoiRhmNO+euhu5TJiuc\n",
       "cbVYIPajdCviqHCiLGUW2wDtCmjiYW6zp88835oSRf6gK0sbWE6u4EQJ3EweCiXvdw0fe+UVCh0+\n",
       "hamj54nhX4sw4dAY3oQbIR0aR+bsvKTVFWLc6obkV5Kx4LcYijdEvv2iEg/qAlWooWJC99n4VNBN\n",
       "cdiAAAFbAAABJUGa7kmoQWyZTBRMEf/+tSqAAAADABXfrKGQKRgodVADXg6HioceVSHkd++iH3Nu\n",
       "DyJzDI1QL4mjJ+i9PntI50tb67Beh0Li1BvUfahIf1TxrRvZMQ61Pigl3HCReU4fNOaOudbHL3Ww\n",
       "oRFqEhQgLHAwoqSgTT/b1hTlRvWnLNsyim2/DtzI5TXmq40LElDwXzLqP5VSldggd0OAAFi1LAlN\n",
       "ipAK/uJyuhqhBUgtOh5NcDz9C1jPgkz9PZlOAxg42LIjOuLPkj+yKk6uoxbBuwj4m4QACRBVbpIN\n",
       "6Z44kTz4vDVXDTl0TmyKvo5gETcy7uquXtU5C9JN/RdD1dW7nJXurd/84FKIzoL3cfnhKnOAFQGY\n",
       "B41FkJ8MBjqmFL/YU5pI/BIJAAAAoQGfDWpDfwAAAwAAdrtYQ30mDz4MxCRQSqQGr6uUOMgFLynH\n",
       "FgAZG8yI5fN9WRt7Xn4A4DMQE7Q0G90WVkg+IPwHPUEOqmnguRIOcPLfLf7vA3rDk7qhFSFqYp5j\n",
       "AnicozjvocDAOFeOMdy31IiBHYzgef8oMW7n5Fyoq/eWN+EKyMiosLp79+q6OUp8iOy3a0DMa2Ct\n",
       "+GUjNZL5+SAAAAd1AAACFEGbEknhClJlMCCP//61KoAAAAMAFC+soZEMUs/yXgBDEgoDGBd5F9DT\n",
       "7VILI7Fa+D62+o1EpbWYJVZcH8AUsn9irCx38Mjm1Tbg4LGbA9e/ufD6o5qbp3bNq92qAl16r/64\n",
       "Jlxr0b6Cek/xZ8exAcoidNTjSD8+A3MA22JPt+3aa7/q/6BvSoueSEbi1xMBb+4HKwmQNnu3F8x3\n",
       "7RujBJK68KxSAvWU6/JFQjptzBvss2zjBlea4Hi+mdlDKzcYjL2iABOXP1m/EuaZ4AAKfJ/uODPP\n",
       "B68lTYnGFsGpKEPm+tKQuoY+EeGddfGrnbvVKS+dCTwb3lsTynXJtHo35+rvecwAAZezpNn4nmnB\n",
       "5pNUm890AIRk/iEh6D3iSS3Nec93o8Xbcdbq9HZM3Xv6GZrG0hsZ1+1ZQc5PZmtb2C2xNkBLDw46\n",
       "b4xzLtWAAIt/avXvtk8eiqj8XbeoyfiO4Jv+cB3RpwOlbmddHN0IKIrExIC5y1DHyxGUZ2qwCGS6\n",
       "bpjtWfxMXCBNxp7VLuuYi7UE529k7w8Z9tYKOMfKJDNj/92YXsv2XbQ2xTqVJPpayM35NSb10mmz\n",
       "Nvz3fJN8Eb5MHfFF/WNB0f/48cJEWmd/f7K496Oekz0SGV13ya2gDG9WqEoxHKdssHnZ4/R98MzP\n",
       "ITyfceuNPl8T7O64Krsq9HOpCGcWsnFXMKm9fbEd5KIUTfcAAAEDQZ8wRTRMO/8AAAMAAE4ck2M6\n",
       "+P99mmKLdbadzxrGSpHHj4RAk2NB8MN6IrYuTNAXuTuRDcyEyVatDNaJlund0Dbbn3cTbtIAj6zS\n",
       "T2NpkhASrOLC1yUkIdvsprOgQ5z5zYd9y36s/yInx56OaYvQ2j32JrmAIwjRu31Egnkf3tV3XpKh\n",
       "9FjCQegq0rHyZeJAQoNS/YzjsNFyoZ+J/9VvBN9B+thb23DEev2ohROAadku3A6UJDg3snTon7KN\n",
       "WAGj5zIs75EQRhp6cFGG1JPQBb7ayX1cI3RT16bRAgPj4+MLdZ1n5HSP2jje1nsj737+ANcn5gar\n",
       "LLgi/nFOY3+AAAAKmAAAAJMBn090Q38AAAMAAG56qY1YtwRR0GbBQYS2RxquDFjAgiyARULjOkMU\n",
       "F4DXrqQ+BxTaCryR0U07kgKFAHKmGofVmwBdm2+d6IW+iPWvNp+x0ry/gupiFwRoFC/6dy2qwNKy\n",
       "IitNCor7PC5DQLmp1LbrHg7IfNL/HVxHgFAtOt2ZwhVKJXlbSpUxk3i3ZXUOAAADARcAAACwAZ9R\n",
       "akN/AAADAABpgBj6fxS1P0wr5I44J+Bo72pexoEOUOjipqCtXiIwsr8WWn6JoWYFDczzH8iUbTBP\n",
       "YYQpi6+yCMQGROG+xIATJ4UeohM1dx42HUklXlu45u4tkUuYgbzsau27DZhVrDvmEexaawW8Ww/m\n",
       "E/RgrWQIMjpNl5by4yknsXQIqq7LrXqvhGEWsknkbxK34ZMC92EzcvSYIfcHJD4AlS6jM4MDFFgA\n",
       "B6UAAAI5QZtWSahBaJlMCCP//rUqgAAAAwASH7zX7MGqd/sn4eY3DgAC2ZzN969HGDDFUqS7EjUv\n",
       "JutvKLF0lnln+8luskwwL2wTS4tPtYMJ1pltRI3ZTx9tx8DeET3aMCJLGVd/OYBjZALQRzDEneAc\n",
       "dTV72a3INdFVY/8Jb2+fFEAqYmKVCE3FDPZNkr0J38PhceU+HBhWTf9a77nZtrpQqWlsiZR1IQ2U\n",
       "zDlEWxH6denCCjUaOXz5a5WlsyGo8IeFeTgZR87mRyOLfeHMa5LUn1Hrw3MGdUPvioWBIqjClWLD\n",
       "R2e/wc5YRe5h9yuo27Prj/t1YJI0K9qkWoNCZXG6AR/sB805ggRBEmgtDl2J0crN/iTBUx3Havvx\n",
       "+8J1FX9YL4pkurw8dj3DZoLQUDBu89QCrZn3zFymulEoaGeFc54XL+Wn8QAeu2B42iWKLW3C4k4P\n",
       "KMNqusVelVAMGOufYhj+/CMD8rebL/zYVMqWN8rkYAYhr1BXdnSvuZHhdDOOEHeLLONBvyZ+EmS0\n",
       "weWH8KhHP7GMy+2WkqZRrCB4JGYyg+YE9VCrWTvpxz2Yy3eZkDyX3RyqdglpNYy1zZAkHdcO2B7r\n",
       "Fvy6jBtPI4kAJqfsMQ1uGRnkMpWwJeV0PVaKcyh0+akU9+v3XEDvPbhc/TAzAMjA+pIhAPy5lbEP\n",
       "ITB1LAV7D6lO+9ADzJuuGiIMv3ifXedfFh6Wf2TBF96cW37CB5+IqDQhw8RsNrTjn/fsQwARCfzE\n",
       "PwDwtMAAAAEdQZ90RREsO/8AAAMAAEYck2XYuRlZPOPqEou50dpZyA9Kc5TyGgwSji97ZDI9TS74\n",
       "AordF4Mp692tzGxpF/j0gAUHCOdg3K5e4KVyIlIGQybWU1V1carKvEVJ3eOCDiEZzSe+v0EEn6Xx\n",
       "IvKgVOo9FgRkkxbyBuiFqLAtWA2wTRWAETZ2wSj88TBB17nebpKbazvqIeJ3LVvsJfW6wQYMc7Dr\n",
       "kOf3BN0r+J/flE4jzIVOZG2zNzNOhmHt//XKaa7aSRabDI0aWvN7e9CU1CzN0iGJbCAXAV6rmOwR\n",
       "7QgtUg1a3t/tFdP3qYCGNkZUhzJj7Vsm/M6xGItvUrjuEGXLW5dzA8IsadUqhCgdUeNsJzahJ7Aa\n",
       "MpK26sPDAASMAAAAtAGfk3RDfwAAAwAAZHqqWJ73o4x1yEQr6zPOc/z9c9cMp8lKS6++OBpnq8h4\n",
       "bFFeFsIbjwxSl+CVlKxdpkFXjHLBi0Dqr0HA6DXiIRf6AMPPe8sdPGJHrOwkkIeaOGPKYP30urde\n",
       "PaHyZQBhei/V8kiklnD4VS+zLD9Bwt5DZX50iaC2hbWPjud+Gti6hUFvm2OE8UKe8vBAkh/LtuaK\n",
       "N1x1KJm62IYUyZJOeQImcn+GAAD5gQAAAMMBn5VqQ38AAAMAAF0TokfNZq6BuXpZiDQo1WiaIWhu\n",
       "V5kFbf7HsX4G9xPg4XfgHdrmBMugnyxXiq1Kaj0ZJ/rCI8KaoZ66HOg+tslP8OfHZ8fkxz77o4SX\n",
       "U5CcPRUgqKl6FIluspfX3dw6NTI/tztP3qAPnu1KJqIPJNaIIlYdHtIAKHH8rQwlUX5TE5EI/kHv\n",
       "gAxEZR+8jxatIVSLQF6UfeoeamvmlbF3z3IOzRrwtaFQD8B0IbeF16wbTz1A0UAACvgAAAH/QZua\n",
       "SahBbJlMCCP//rUqgAAAAwAPr83QyIYpaBmoeq/XMB8sH5gADMhNy/g5h7lTF2JGpeTddI16cK+T\n",
       "qYOu4H7RalpiO67clZ4/v3P2+LYEXhyOehYAYyLNQlgG+GSaP7oX+RRTNx/bga1jR/YMXa5aXR4N\n",
       "61aEbymJzIZ26kxwDryRCG0TyUE7jfkAkNhES6Y2McMwgD3TMdpQh81sU/aUaT2WEM362/33ww0H\n",
       "AuYlSwexenFOzwiC1N4dF8Eoz6AoJMmfs6L+BBFfp1zDXp55Eexm2HGmrpllxNJCHG6o8FYFcsdj\n",
       "lmojXmMLaPLxYgjUttPQkP2guBbMZ6PM0ifxt5sucu7KNOneL9Qriz3fmzUoNZUJ/OrI62WqG2Tl\n",
       "rDOB/2sbVJPMQBTtXqc36WQ9PFb7J+y+CPvmkNA7xS3lZbLy/GXUaK1sc/98gXmKI1lwX00fI9QC\n",
       "VLmxn0TCJK1EEOhEbkhipo96sylUY+uy931kwwXg8MgEFMaZnF6pbcNJpkeSpYDX/pXPMUkQkzcn\n",
       "PRU32bHDqUQKldbGnE2XfNDo9ol3jVJPaNWaBlirAy0D9cuEf+kpuBNP5ai67SjELLjlJsz7bios\n",
       "zSHzd1QU+qwc7CNCNkZEF+TkvNeM7Kit0r1vEZi/XeUFjHNsQTyCkAIGMXP32Pontw9ZQQAAASpB\n",
       "n7hFFSw7/wAAAwAAPRoDZeNytPwAAJpoE3Q54Aj/f5IOyKPBxuGM2+RgPzqMfMjf85RE1DJOnn3T\n",
       "1knQSFoN9mHIpNxYMMdAKa5f3gVIRltHrjFt4OPor3NanZq8K4QD6w0AfbPU581nMwgJDiG6BwzW\n",
       "BTX7XEeyUtrDlxy7CQ6Vur3ARcY3RhJXMD5ncAFm7nFhVD1Kv/AyCvXunDqISAxaQmgfD+1k8cz8\n",
       "05G2MraqqGMoT5BEo+pDwMBV4Y0ZqIpE5ZUchl0h+dFGWd9W3PbZ+QigBjuLgbLy83PVU+nRDEke\n",
       "W7CPMA2QwkdrAAAIiz6czxqP4c/Zlxa7uldDLz9z5KxCote9QWP2Zw4l6vpE12DkwKjF2bHQ1b+T\n",
       "u5EBhnjScq9wABJxAAAA0gGf13RDfwAAAwAAWI7tDxq2KdP+dCMxFIcLvUMSMLyn21EioJr2eBjM\n",
       "9exC5VNswdLTks5bkuR783PSS5trDePx1EdfhnMkgpYSqg5AZ1Jv5shvAEQ3DYexKmECd1UVJ1c9\n",
       "/7WINDRxy5gc1DPsUHd1cjT36O0iJpmTn0tVK2yAjAgsJK1sX9ioZnC1TmV99RCCq9ZMFjNuAPTq\n",
       "YexXkDdJws9VnlxVp1SnqAGAVwlvNnWr3t3prEgpj0zYkIiNjMgD+z2UGqOfYt64EZJdAAAZUAAA\n",
       "ANIBn9lqQ38AAAMAAFHTmdvF/pAMgUWV73TnlzpfvLYR/B2X8qb5/RtxIXuHqRZWVPvpfjnELINg\n",
       "cTygRx4as30N7koITFiTTbTmAAG45RXmgLdFrsEUjR+NxoykkwhweE1Cub3+eX7puCyxKqTyQRwf\n",
       "CJxzZwpXrTvMlXybJMKTIcJdWnDSkiZP33U8Z7wzfD7S78/xcEG9Q4Zp6Ew7/sVFC3OtiLPaVmyP\n",
       "7byB7wbgxhgyTPRH/uTFYaBO6UYUZKiPxZIthe+4XBNgvKU8RgAAQcEAAAHPQZveSahBbJlMCCH/\n",
       "/qpVAAADAAAb74oN1gEbFsD2nDwAVFIn10C+N1OWvMESHEtdymJ1arXjFu+Vdf4cdiepAErZjWqc\n",
       "QPGWy2Ytj9O6q0WuKC9LpknCnnzkYY2BLLOZGwSUfyZ45+gpJbF5WSGQakp8m/s26jYur24rZMqP\n",
       "Zf4p0Szh8LiZjskgcqvGetv4tB2GnGidffrMo37v3TShA4ApMy7+matj7MX9XpLD61FmnK8w1FaW\n",
       "z9QFUu1RRA9YS9RrXQtPfDKUHbSgSdJiMqhJf4wR0a2lJUv1QFd5tDEJTTuUt5PRVeuJhi89D1qP\n",
       "dwC30wyyhlP0t7U2eo/Di5zzUnT94UjoK4erErfoEiE5AaxoKTJAueVsYTOS0OXq1P4HkRZH1Usw\n",
       "lU60QuKZza9hsDcxhEoAKbd4/ECMwKXmWQbQ/k+Nx0zT1Pxy4Hl+MDZs2tTmliCy2AlQ2vAC9q5o\n",
       "cn1zN9pA/bFH3TgIOLq1SBDCjLI5NUzot6fqyICx8mg0yI9ktVanRhhynhqK0XP0kwwzYiydg+bn\n",
       "pzOS/OiQ4Kie2opiR253IIKjcTo60cQaUuAvYz5IPmHMUV874dAhoxK/5IPYhRSt8bqIsAAAAPJB\n",
       "n/xFFSw7/wAAAwAANltLZd/4Nz0FSOakpM3pDwae4zcD9i0+Bwk3SiZmuO3DC+IEdEmmrOmkD7y6\n",
       "PVBHt40+4FYg7VzvsEWxKo0XdfRsW3Gnk6RzFvkXgMxW5dBmQBwlzUvFoolxQ3g8mIbWaugfYaWc\n",
       "oEsku0sMeqZEX50pLg4fuYUh7sSIwiPP32CM2lFc0kKSNnxMlf9A1lEYVm+HI9BT1WODxQQWC+c4\n",
       "WaQbJnF8AITfidv8UqWJuPu9oRt7zw4Rp/A/B/GkMtBvUCo+Ltf2/ZNK2DzC7+ykL7a7NfuSMY5e\n",
       "gI8ejRJ4rWsvDAAB6QAAAKYBnht0Q38AAAMAAE1fWaxPvvkqzrnTSHyD+x12mXo9Y9tP3toViUxh\n",
       "WMJQaRyOlWmvGBwDOq2oga6ToitxzNFnPzgHYl1AjXMxanO/vvrE3h0go1eb8NCdG9lG+2JvHnaZ\n",
       "487cUDBzCNtizs29Cba+UiAXQ4KErwW8HrdAnYYpXWRPaU2Z5wTll7xFpAzTRHdyaVQkVwk29O6r\n",
       "3a1knyGvI0z3AALPAAAAwQGeHWpDfwAAAwAARWMj0DBLEAJZTQz6pisneE2Xak2Kf37v5zylSiDk\n",
       "IQeQQSPaOjKvOI0F7OPgcfQlYEhDk59m+fbs2Ei3Usz02NKZmh1/v/9dNr6SAFMLxe6RDXNa7e62\n",
       "W6LKmbSPgD4mDcwfZx/umIYhCSkUaVSsiF7c7K964T4PzxIej1v7FK1n/XChgC/c4a3xiRJPkd6f\n",
       "2ooAdcFJgsfqw4pUe1xRh+KtTPSWIVL5V2UxLDGvPJAd+AAAb0AAAAFWQZoCSahBbJlMCH///qmW\n",
       "AAADAABbd02mZfzgMougZXh4hrSTYzYR0lVG8wAg0jmB8ZQYNMqjC9XP6BX3ksaRrZRaAooMq5pJ\n",
       "968gWUlchGxp4m2jW86JO8VdAMzq+Yd39t0rEnlLKkkbNGe5P0JfJe14/x8vtN/gQYLu/bu7Z+Pz\n",
       "gACP8e1+6QAASNxN0GhKEM0HusRCz3WFpK1hdwosqRBqEznBUUy22J6YmKE9OPRp9KiuJGR6j3Oh\n",
       "l/6xRT0WBgvAEjR/OnwYo8AVzPlYMwNSQM9bK56ElOwtfIDp5oLSAMKSIBuS1RhebXVh5NFKy2bk\n",
       "DE5h49x/rt8OXZz1S/sd3BjDKAHP14T/Ge1393Y5SO4/Kdgv+gbtOVzh8pWmY5HCR2LU1tfWBuQl\n",
       "rpd9uh74GmlenrQpbm+BnnRRyjqhxcJO/n77uF16Eu6F9/2kEiInsnVoAAAAzkGeIEUVLDv/AAAD\n",
       "AAAtxim6130tNv0tRZifjJvKmVYT3dQkYWUUhAATpETj9zd+EjJPZfhb3QDpM40fAWi7H10bY+pX\n",
       "MV1wSXFf/b7K6a2L/pTunakyWHADfL8OgxToGcH9gCmqi5J6BeUWJqadxv76wxP/z+TtsjHjbAOZ\n",
       "rPoZFAwInmnwSoFT8Uq72ptp4P/Q3WurfZJTYkzEAH4Y2OWxbKu3ymIYEvXvsnW1A7bzPDHnTyNZ\n",
       "nn7hRLD4iG+denKiA41hfiZ23xBAANSBAAAAswGeX3RDfwAAAwAAP3psx8jpyswpeaMzqdOiSFU+\n",
       "tYh66kRbloxq/HyZ2b8zABtIhiT+tedJRICLJOdwkykghPDMSGS0W8Yff6s9y8xNLpFDDeIbKP/i\n",
       "4tkqCE7fYdgd1++rEe9u2istarGgm2IZpyjoZC4AdSvjvVTEvuemqgYoltqARSCQzR4xFvoWOxKr\n",
       "w5bcO4mUufdAOOZYBb3sA+rKeVpXW2Rjv1m6WqjL+zg1AAGVAAAAtwGeQWpDfwAAAwAAPL2sJzx6\n",
       "DCmM9V2QHE5/ehFPqIio3mk1wsY01kvdYyoACYVOZutMWIGrx9PyghBqwl6kTRv1r0L65vo11uze\n",
       "CWxcUqj5vXfWWOzNtqepdEfhybs0ZCHv9kjHKeXt1hg6QgPdWHLkT9/NrL6Vri6/WqdSgOHCGbKb\n",
       "uq6+ow+aI7ogsV1h2ZYKSMXHUjU8bummJZDeBQW3ihUBcZ8duFqWe2SE4C3TCgpKHwADpwAAAPdB\n",
       "mkVJqEFsmUwIb//+p4QAAAMAAJt9Bt5DorioEJ/OSYZZsw+3HFy+mSq0kbd4B6KbORylvqN9bAQ/\n",
       "7hTujGHrc+R6AUWWROu9mUdPEhmWcnaVqMC0lWcqZ0B0vnGpe4mmVhkiCCwXlNfiVKwdyLWYN2BQ\n",
       "bADaVRkDwW9CgRyJhTgLUyRBx0SP2mKWcaSr2QE5VcggPYe3dtfX/+Pe+5EgdCfAP+GwAAGMSb81\n",
       "wfpkktpbRLBTJqoow55ZRL0DsDRKKifwtAFRznZEwsYTtaNIixib1L+JyoCd0jeZi5u2W5D5tOTZ\n",
       "Gt631khyNpExRuKrA4a6UqbTAAAAsUGeY0UVLDf/AAADAAA3QAx+GWX0ccdJFhu+ad7rN8ppheom\n",
       "M1G8Otp4lJsOqkWwNvJvipfnu7f6YACzjTNhFr9mK/l+sa/IvNOp6q4T3QfCukMKA+RA2oeXCX3T\n",
       "semoigwkccZdsX5GJAKeyzTd8m+U0pqZB2hhIoKBNRoAtrr2lZjhI3tFcEusHotDB+oIOTWhw8Lf\n",
       "ctH7bfQAAmY1XlqNaDV6hNk2OvoXDcf3AABgwQAAAKIBnoRqQ38AAAMAADYACfyP/ZnKTD7QWc04\n",
       "iCzOjapMROexwrXIi/LjaNiPTVX/t/8YvgefxVIh/8nvH7GqEXGoA7xBiSd3kZwB/Y3AGpZJH1RX\n",
       "y0R2qfjEaz/YpR6gsUe7Q748Bm69LQRHNc98xtE+Sz0sP6acN37DKvp7yEpY7gu9y0Vj/9tYut54\n",
       "BrSlZpgVHTdT7/bnAav7cczPK8WABv0AAAZwbW9vdgAAAGxtdmhkAAAAAAAAAAAAAAAAAAAD6AAA\n",
       "G1gAAQAAAQAAAAAAAAAAAAAAAAEAAAAAAAAAAAAAAAAAAAABAAAAAAAAAAAAAAAAAABAAAAAAAAA\n",
       "AAAAAAAAAAAAAAAAAAAAAAAAAAAAAAAAAgAABZp0cmFrAAAAXHRraGQAAAADAAAAAAAAAAAAAAAB\n",
       "AAAAAAAAG1gAAAAAAAAAAAAAAAAAAAAAAAEAAAAAAAAAAAAAAAAAAAABAAAAAAAAAAAAAAAAAABA\n",
       "AAAABwgAAAEsAAAAAAAkZWR0cwAAABxlbHN0AAAAAAAAAAEAABtYAAAIAAABAAAAAAUSbWRpYQAA\n",
       "ACBtZGhkAAAAAAAAAAAAAAAAAAAoAAABGABVxAAAAAAALWhkbHIAAAAAAAAAAHZpZGUAAAAAAAAA\n",
       "AAAAAABWaWRlb0hhbmRsZXIAAAAEvW1pbmYAAAAUdm1oZAAAAAEAAAAAAAAAAAAAACRkaW5mAAAA\n",
       "HGRyZWYAAAAAAAAAAQAAAAx1cmwgAAAAAQAABH1zdGJsAAAAtXN0c2QAAAAAAAAAAQAAAKVhdmMx\n",
       "AAAAAAAAAAEAAAAAAAAAAAAAAAAAAAAABwgBLABIAAAASAAAAAAAAAABAAAAAAAAAAAAAAAAAAAA\n",
       "AAAAAAAAAAAAAAAAAAAAAAAAGP//AAAAM2F2Y0MBZAAf/+EAGmdkAB+s2UBxCfluEAAAAwAQAAAD\n",
       "AUDxgxlgAQAGaOvjyyLAAAAAHHV1aWRraEDyXyRPxbo5pRvPAyPzAAAAAAAAABhzdHRzAAAAAAAA\n",
       "AAEAAABGAAAEAAAAABRzdHNzAAAAAAAAAAEAAAABAAACOGN0dHMAAAAAAAAARQAAAAEAAAgAAAAA\n",
       "AQAAFAAAAAABAAAIAAAAAAEAAAAAAAAAAQAABAAAAAABAAAUAAAAAAEAAAgAAAAAAQAAAAAAAAAB\n",
       "AAAEAAAAAAEAABQAAAAAAQAACAAAAAABAAAAAAAAAAEAAAQAAAAAAQAAFAAAAAABAAAIAAAAAAEA\n",
       "AAAAAAAAAQAABAAAAAABAAAUAAAAAAEAAAgAAAAAAQAAAAAAAAABAAAEAAAAAAEAABQAAAAAAQAA\n",
       "CAAAAAABAAAAAAAAAAEAAAQAAAAAAQAAFAAAAAABAAAIAAAAAAEAAAAAAAAAAQAABAAAAAABAAAU\n",
       "AAAAAAEAAAgAAAAAAQAAAAAAAAABAAAEAAAAAAEAABQAAAAAAQAACAAAAAABAAAAAAAAAAEAAAQA\n",
       "AAAAAQAAFAAAAAABAAAIAAAAAAEAAAAAAAAAAQAABAAAAAABAAAUAAAAAAEAAAgAAAAAAQAAAAAA\n",
       "AAABAAAEAAAAAAEAAAwAAAAAAQAABAAAAAABAAAUAAAAAAEAAAgAAAAAAQAAAAAAAAABAAAEAAAA\n",
       "AAEAABQAAAAAAQAACAAAAAABAAAAAAAAAAEAAAQAAAAAAQAAFAAAAAABAAAIAAAAAAEAAAAAAAAA\n",
       "AQAABAAAAAABAAAUAAAAAAEAAAgAAAAAAQAAAAAAAAABAAAEAAAAAAEAABQAAAAAAQAACAAAAAAB\n",
       "AAAAAAAAAAEAAAQAAAAAAQAAEAAAAAACAAAEAAAAABxzdHNjAAAAAAAAAAEAAAABAAAARgAAAAEA\n",
       "AAEsc3RzegAAAAAAAAAAAAAARgAAExQAAAEMAAAAZgAAAEAAAABLAAABBAAAAGEAAABYAAAAWAAA\n",
       "AKgAAABmAAAATQAAAE4AAADQAAAAcQAAAE0AAABJAAABTQAAAG8AAABjAAAAUgAAARcAAACAAAAA\n",
       "WQAAAGYAAAEWAAAAkwAAAG4AAAB0AAABHQAAAKsAAACLAAAAfAAAAQUAAACyAAAAggAAAIIAAAFW\n",
       "AAAAnwAAAH4AAACNAAABrAAAAMoAAACPAAAAowAAASkAAAClAAACGAAAAQcAAACXAAAAtAAAAj0A\n",
       "AAEhAAAAuAAAAMcAAAIDAAABLgAAANYAAADWAAAB0wAAAPYAAACqAAAAxQAAAVoAAADSAAAAtwAA\n",
       "ALsAAAD7AAAAtQAAAKYAAAAUc3RjbwAAAAAAAAABAAAALAAAAGJ1ZHRhAAAAWm1ldGEAAAAAAAAA\n",
       "IWhkbHIAAAAAAAAAAG1kaXJhcHBsAAAAAAAAAAAAAAAALWlsc3QAAAAlqXRvbwAAAB1kYXRhAAAA\n",
       "AQAAAABMYXZmNTguMjkuMTAw\n",
       "\">\n",
       "  Your browser does not support the video tag.\n",
       "</video>"
      ],
      "text/plain": [
       "<IPython.core.display.HTML object>"
      ]
     },
     "execution_count": 4,
     "metadata": {},
     "output_type": "execute_result"
    },
    {
     "data": {
      "image/png": "[encoded data removed]",
      "text/plain": [
       "<Figure size 1200x1200 with 1 Axes>"
      ]
     },
     "metadata": {},
     "output_type": "display_data"
    }
   ],
   "source": [
    "from IPython.display import HTML\n",
    "\n",
    "fig = plt.figure(figsize=(12, 2), dpi=150)\n",
    "anim = animation.FuncAnimation(fig,\n",
    "                               plot_result_scenario, \n",
    "                               fargs=[results_unaware[0], results_unaware[1], results_unaware[2]], \n",
    "                               frames = range(config[\"simulation_duration\"]), \n",
    "                               interval = 100, \n",
    "                               blit = False)\n",
    "HTML(anim.to_html5_video())"
   ]
  },
  {
   "attachments": {},
   "cell_type": "markdown",
   "metadata": {},
   "source": [
    "### Velocity comparison"
   ]
  },
  {
   "cell_type": "code",
   "execution_count": 34,
   "metadata": {},
   "outputs": [
    {
     "data": {
      "text/plain": [
       "Text(0, 0.5, 'RSS distance [m]')"
      ]
     },
     "execution_count": 34,
     "metadata": {},
     "output_type": "execute_result"
    },
    {
     "data": {
      "image/png": "[encoded data removed]",
      "text/plain": [
       "<Figure size 1000x400 with 1 Axes>"
      ]
     },
     "metadata": {},
     "output_type": "display_data"
    }
   ],
   "source": [
    "from utilities import find_RSS_distance\n",
    "import numpy as np\n",
    "\n",
    "dists_track = find_RSS_distance(track_vehicle, scenario1, config)\n",
    "dists_no_track = find_RSS_distance(no_track_vehicle, scenario2, config)\n",
    "time = np.linspace(0.1, config.get('simulation_duration')/10, config.get('simulation_duration')-1) #assuming dt = 0.1\n",
    "\n",
    "plt.figure(figsize=(10,4))\n",
    "labels = ['Proposed method','Baseline method']\n",
    "\n",
    "plt.plot(time, dists_track, label=labels[0])\n",
    "plt.plot(time, dists_no_track, label=labels[1])\n",
    "plt.legend()\n",
    "plt.grid()\n",
    "\n",
    "plt.xlabel('Time [s]')\n",
    "plt.ylabel('RSS distance [m]')"
   ]
  },
  {
   "cell_type": "code",
   "execution_count": 35,
   "metadata": {},
   "outputs": [
    {
     "data": {
      "text/plain": [
       "(22.0, 32.0)"
      ]
     },
     "execution_count": 35,
     "metadata": {},
     "output_type": "execute_result"
    },
    {
     "data": {
      "image/png": "[encoded data removed]",
      "text/plain": [
       "<Figure size 1000x400 with 1 Axes>"
      ]
     },
     "metadata": {},
     "output_type": "display_data"
    }
   ],
   "source": [
    "plt.figure(figsize=(10, 4))\n",
    "labels = ['Proposed method','Baseline method']\n",
    "for idx, vehicle in enumerate([track_vehicle, no_track_vehicle]):\n",
    "    velocities = [round(vehicle.initial_state.velocity, 2)]\n",
    "    time = [round(vehicle.initial_state.time_step/10, 2)]\n",
    "    for state in vehicle.prediction.trajectory.state_list:\n",
    "        velocities.append(round(state.velocity, 2))\n",
    "        time.append(round(state.time_step/10, 2))\n",
    "    plt.plot(time, velocities, label=labels[idx])\n",
    "plt.xlabel('Time [s]')\n",
    "plt.ylabel('Velocity [m/s]')\n",
    "plt.legend()\n",
    "plt.grid()\n",
    "plt.ylim(22, 32)"
   ]
  }
 ],
 "metadata": {
  "kernelspec": {
   "display_name": "Python 3 (ipykernel)",
   "language": "python",
   "name": "python3"
  },
  "language_info": {
   "codemirror_mode": {
    "name": "ipython",
    "version": 3
   },
   "file_extension": ".py",
   "mimetype": "text/x-python",
   "name": "python",
   "nbconvert_exporter": "python",
   "pygments_lexer": "ipython3",
   "version": "3.8.10"
  }
 },
 "nbformat": 4,
 "nbformat_minor": 4
}

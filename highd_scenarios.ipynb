{
 "cells": [
  {
   "cell_type": "code",
   "execution_count": 1,
   "metadata": {},
   "outputs": [],
   "source": [
    "import os\n",
    "import yaml\n",
    "import glob\n",
    "\n",
    "from python_scripts.simulation import step_simulation\n",
    "from python_scripts.visualizer import Visualizer\n",
    "from commonroad.common.file_reader import CommonRoadFileReader\n",
    "\n",
    "import matplotlib.pyplot as plt\n",
    "from matplotlib import animation\n",
    "from IPython.display import HTML\n"
   ]
  },
  {
   "cell_type": "code",
   "execution_count": 2,
   "metadata": {},
   "outputs": [],
   "source": [
    "def merge_config(global_config, scenario_config):\n",
    "    global_config[\"simulation_duration\"] = scenario_config[\"simulation_duration\"]\n",
    "    global_config[\"initial_state_x\"] = scenario_config[\"initial_state_x\"]\n",
    "    global_config[\"initial_state_y\"] = scenario_config[\"initial_state_y\"]\n",
    "    global_config[\"initial_state_orientation\"] = scenario_config[\"initial_state_orientation\"]\n",
    "    global_config[\"initial_state_velocity\"] = scenario_config[\"initial_state_velocity\"]\n",
    "    global_config[\"vehicle_type\"] = scenario_config[\"vehicle_type\"]\n",
    "    global_config[\"vehicle_length\"] = scenario_config[\"vehicle_length\"]\n",
    "    global_config[\"vehicle_width\"] = scenario_config[\"vehicle_width\"]\n",
    "    global_config[\"reference_speed\"] = scenario_config[\"reference_velocity\"]\n",
    "    global_config[\"planning_horizon\"] = scenario_config[\"planning_horizon\"]\n",
    "    global_config[\"goal_point_x\"] = scenario_config[\"goal_point_x\"]\n",
    "    global_config[\"goal_point_y\"] = scenario_config[\"goal_point_y\"]\n",
    "    global_config[\"occlusion_params\"][\"vmax\"] = scenario_config[\"vmax\"]\n",
    "    global_config[\"occlusion_params\"][\"prediction_horizon\"] = scenario_config[\"planning_horizon\"]\n",
    "\n",
    "    return global_config\n",
    "\n",
    "def save_results(filename, tracked_vehicle, tracked_scenarios, tracked_shadows, baseline_vehicle, baseline_scenarios, baseline_shadows):\n",
    "    pass"
   ]
  },
  {
   "attachments": {},
   "cell_type": "markdown",
   "metadata": {},
   "source": [
    "## Visualise scenario"
   ]
  },
  {
   "cell_type": "code",
   "execution_count": 17,
   "metadata": {},
   "outputs": [
    {
     "data": {
      "text/html": [
       "<video width=\"1200\" height=\"400\" controls autoplay loop>\n",
       "  <source type=\"video/mp4\" src=\"data:video/mp4;base64,AAAAHGZ0eXBNNFYgAAACAGlzb21pc28yYXZjMQAAAAhmcmVlAAAssm1kYXQAAAKuBgX//6rcRem9\n",
       "5tlIt5Ys2CDZI+7veDI2NCAtIGNvcmUgMTU1IHIyOTE3IDBhODRkOTggLSBILjI2NC9NUEVHLTQg\n",
       "QVZDIGNvZGVjIC0gQ29weWxlZnQgMjAwMy0yMDE4IC0gaHR0cDovL3d3dy52aWRlb2xhbi5vcmcv\n",
       "eDI2NC5odG1sIC0gb3B0aW9uczogY2FiYWM9MSByZWY9MyBkZWJsb2NrPTE6MDowIGFuYWx5c2U9\n",
       "MHgzOjB4MTEzIG1lPWhleCBzdWJtZT03IHBzeT0xIHBzeV9yZD0xLjAwOjAuMDAgbWl4ZWRfcmVm\n",
       "PTEgbWVfcmFuZ2U9MTYgY2hyb21hX21lPTEgdHJlbGxpcz0xIDh4OGRjdD0xIGNxbT0wIGRlYWR6\n",
       "b25lPTIxLDExIGZhc3RfcHNraXA9MSBjaHJvbWFfcXBfb2Zmc2V0PS0yIHRocmVhZHM9NiBsb29r\n",
       "YWhlYWRfdGhyZWFkcz0xIHNsaWNlZF90aHJlYWRzPTAgbnI9MCBkZWNpbWF0ZT0xIGludGVybGFj\n",
       "ZWQ9MCBibHVyYXlfY29tcGF0PTAgY29uc3RyYWluZWRfaW50cmE9MCBiZnJhbWVzPTMgYl9weXJh\n",
       "bWlkPTIgYl9hZGFwdD0xIGJfYmlhcz0wIGRpcmVjdD0xIHdlaWdodGI9MSBvcGVuX2dvcD0wIHdl\n",
       "aWdodHA9MiBrZXlpbnQ9MjUwIGtleWludF9taW49MTAgc2NlbmVjdXQ9NDAgaW50cmFfcmVmcmVz\n",
       "aD0wIHJjX2xvb2thaGVhZD00MCByYz1jcmYgbWJ0cmVlPTEgY3JmPTIzLjAgcWNvbXA9MC42MCBx\n",
       "cG1pbj0wIHFwbWF4PTY5IHFwc3RlcD00IGlwX3JhdGlvPTEuNDAgYXE9MToxLjAwAIAAABICZYiE\n",
       "ABH//veIHzLLafk613IR560urR9Q7kZxXqS9/iAAAAMAAAMAAAMAAAySf0ilanQ/d/4gAAADAACe\n",
       "AAErAARoABpgAMYAB3AAV+LdP9JCcABz98xxy79OMJNyHHFbvGW6a7zyfRSD3az8vXVE209TG91T\n",
       "5YUZeaZbviyXRFydGKwci4pHmvkNgir68Gg7fNw7DK+OAb11m3rD3b8etwEI7DV5IuHiWFIc1O4m\n",
       "15DxQq6eQBadeHEl9gLrje/TamW3vCAqz4tBnL6i7YIbZ6FWotXo6dGAQmBQry1KX3UtLFQ1vdxK\n",
       "57+19ZNpwqiDEOK2Ya1Mcew4rc7+4LMc+Cp1hL3eP3K83OSc3PFhu1vADV0reU1JkjBvtnbEp/ai\n",
       "l3wvtl7qMFMOxFZIdyXCWrIUfoGo/UUhxbmwAuIYRSZpraP8dPLx85ATXzKt4OAAAMT9IbXA2gns\n",
       "Kpfh89LgpD9hf3kRI40tlc3oWkocG3y0FTW1hhxXIn09l91/o9WorvBODWoaxhkpn1yzaHBIh8Hl\n",
       "tGCVCloAEPQZbKg6Jxuo4NKYVXrcdEdrxNMPG0h6z0pyjnHxU8lrMxtnBtn9/W6KFE8YwurwOW6l\n",
       "fbUB5HagKVZd9QQb6uGxApJPjTyNbYKFeu6qlkYv+rfZnxCa9vw3ZV+HyLUZMJlLvIz6+0083uCd\n",
       "gGqSVLiT45qMoAi3V37fcBzeGeryKp5xr3MzIAA6H9oYjeh0lH1l54XX1ass8dkqD+EDlwvgumJ7\n",
       "9Tvi7vgclVuuLl4JSSuzQanVlii5I2qk2gcwCJgPqIeeQclwlnh5pL9UQYR9gwLZwMasF8Sb7VNc\n",
       "oIRRZjaTsbTH0yFhXYan6PIMGJQAB5nCgQHYuCSymgEj01YlNUzFzCWxSUv/CF1ASPrlmN0+Wf5O\n",
       "QO8S1FX6ILCt5OSF3X/FXM6JGAhhauK3euGTzWpj84k3tld8KAAATjDqqjWOoSVZ18sHbMRFKgfR\n",
       "cA+tnHBcZQpybp537+JxIzPFFHbL/I1TY0yLfB3XMsSYNs7Jw52TBjxXmfampELQu7mu9j9pbQxq\n",
       "Jy1tEgnd7mmdVSIdKYoNc6ipjqa78/tQRG03VKnSn3kQYhgDBXGm4oj904eGTMxFn0yjNSC43PKC\n",
       "pOPeqvDTk3ov2y5rRcGqqVDLWzhcMn8EyxvqXiczf73CWWnXWj4zu/36Lwo2oWtACbfbqbJlQH12\n",
       "RM5iPApsUAmTUv84IYRw5l0VcPFfZD+FJ8G7l5SCqfijL6/W2sW/2eWpRYUgK+xWD802gUxZut+y\n",
       "kFK/ReFG2EOgOruE8pRxyhhtIS+8EAuCjAD1vm7Cg4G0ExdOUBSi2z/Qnt6EK7NMcukMRmjbsfvL\n",
       "YH+POsC9fQmCRE1jO5/9KBQ2MZLQ9CqWrWhLwidgYH+POsBkO81+LZ2KBD1dB07PyiZCvU/Lj+1n\n",
       "jJpviaU587hzWJU2DfV3BCHqiIehgqBDOpJVDh8srVcUsV9OBXJ8Vktz/XAU8/BV6n+sZgdAX8EL\n",
       "rGbrsVOsuuPOK/ExouO+uesNHUgGL1e1SJWTcUZpIlt//8AFwjrFeOjOMlG6MX24Df0BBh8i08Z/\n",
       "9xVMmP/GJA2d/bFtm6vc4Jaij/M1B5LryBmEjy12PbxfoJnMVvA/ygYZdQfwH/e+ZEX4Bxnuc6ZG\n",
       "m0WWt4waon5Nv8Hr1mjF4DZC9Afe5SgHefCKDa8sG1YSACcPhryYoUA59KmogjuN0dAmS//zgmCZ\n",
       "fzmFV/gvwItV/ePz3YePnOslAGnyDtQwipLyjMoeXXHBh+JQ7mZ9QXYj2G+Xr94mIh0uUP86Nxwd\n",
       "z6HCuNCvWlqw3o8wWGo7TY9kLNygeB3cqruN18x/+Dq/c+hoVFzQVOrcnNokWOXif//92qfrlj6o\n",
       "x8eNrMPedMnRJrgNdJ5ASCrkwDVkGraB2IaCuNmdDq1F4xnCRdrC8azluMlHhXk79t580vxqY+gz\n",
       "vNHAScZWtu/oW6UpIWDAGprfdaO3HLwtf0+XIHj+5Ol2827NkQRA91wL1ob24dXRtUgJx7wiRKq2\n",
       "f0bXULkjzM/piDBLZm3ohehIbdLPeXcxpzDDlk8JqTfX28Swt9yj4hpbSZq6mDGwlFuWfTSUEhKL\n",
       "wJnqrdKrda0FY/61TV6MMrVGExLAzBVEAjQJHWGi9pFgjnSkoJn9Psn8ST6/0uMSqZVswY6tnuIQ\n",
       "u6whlwmdzYrtIxK5k8KbSOapgDgAYKkP08GcqrbseJiMv23mR8mN3l/9Dz1pS+wzYLwBS4dCQxZ2\n",
       "aF6/+5uexGGHZlj/W03GHkGnDI7SWn07/yG/Z4geXlOK/e6Iu2fzfoh2CW1m1wy3tMWN+znTmNb3\n",
       "N7uRouaQ/rfhiO72pm+vqnrzScxJK8r/u2ow2Rzra7JFO29NszFvbLWci7zHvhHp3PNDZTLqhSbI\n",
       "N06gUQWi6Dobx6jjI4A6FITDGWBE2ctl4ldTvPLw3QG3M/bJX6U8I4xWZ+azfeZxGMg9nI+zY1My\n",
       "r1pNB+sePuf/oEB5gwRdPeMr1+fCpwvUyjGNCr0gegGb4rjs1y/FuZhB3DM5YodCyH81Yxyi0N6m\n",
       "AJAKRyt3AETXpEiS+DBZfpLZEcAAwQXhELl+MfXV0kwKRkwCbik5/BAf1Ot2LoESovHdjvrwFbaK\n",
       "FmIAFiWAyiHv1ZOXZ0ffdm/+3Zx8K/Oo3minJtcOWIZbiWD36wDlw8dwOEKwYVvOFcyxYvlmhOgt\n",
       "5Cp9FpYHMoX5U9JTeUoNsU8tMufbLkkWLBxK886j9sC52fM7xSiscE9ICri2lo/zJlutwMz9v8Y5\n",
       "co0aqkJ0DQpQVhk+m575MrTN4FHC2FxXpsizyVi5AWTfZ7QMrMAtbH4h58PhF7xOBAYH9S+NkC1l\n",
       "+EEoIxZplQX0qi2ZwMmJ0PGHqsJsyOUc7fgJNp8jUacoHJGkDqNws9aXlBkLyalfrmataRZ9tkS8\n",
       "tCQrzGmC0HkG3jpDuAQRTt8OOBWdYDMGWu8R3wZWZBBSWghd+oMrMnTkrXLDBfckytzz2NUzt+zu\n",
       "NmfHHJ1ks0JRm1GbA1Yxqr96sHWrX/2EFZ8mIBW5UlCbfKsmxrP7YX0ukvgBRQJfMsokt1UoLr/7\n",
       "bfVuwGZxcJHz/X7TeT3/bD/EMdXyMkVi/bSvLDNEtg+XjuzE6zgG8B0SOfO9s2MxQB1iJvNFLMvP\n",
       "I5sydOtMGZitiNLcz8ChvMtF6xttyGbb3eI0+h86LBQEtlgZJgg+mWMxYXqWhRyC/quUOYV3G4LU\n",
       "fu7q8lhh1mJb//QGR3qb/FUEqqizZD+nWfu7iN3F+A36OR7t8XP1sw1cj7jPBrb2rSuKl0NUoG59\n",
       "W5J55q0sIhrO4UnpLvuR0dYCPOdilUFes/ZkF/1NCBu9tRtpTzLwuZPfBdXrh53hVW65hc7jzblL\n",
       "JYzj/R8qNcAOjJ6RKd1cQ8JvcBgAk3XO0gEczrGSjLCzyXEK+0uN1fUeiEzUORaYtP0gptJbIkRC\n",
       "dgzY74tfrBJT5QWfF/raE7ZdLJ+8+yXl6e5csprlR9P7hAHWOj4QzcyoijirxsHtRN1Mj14WUqVg\n",
       "WxRerJG5cuPtQJMRQHYmjVjaOBHq5UBRr2FP6ZNvjVrCtQ+LCvWcuJhWp9aNvd9Cz1e43PTa/DDi\n",
       "X041KYuoITH26SMt6zSzE+SsYAQTIkqRlEWj7iFlfqs23MaxbeGP6E8QLv/j8EAnoty3JYSkcggV\n",
       "vxEW8tTwCKgOLtOOr/5qaqvF3d4lMlGubT1H9+Wn6APkz92kN2ch6fhK58FCBNA9pjykfJf5DKl6\n",
       "P5cFkSfLpiWRlFfzY2E6pdtcYQ59ohjXh9aJYiohDyKjvsdTBm7iUKv3gAAAPKcFKiny7KzMZlby\n",
       "RMA6ziS0cn3WnncJMw1Ga86rrVdoVXnSMKrT5dPfjtUycCkxTlok8ukaJzHOnrPEwPVcfLX6H3rY\n",
       "0xwsVOsoQVDOnga9O2h51QuZrES++oOIZ7eMfqytxzahi3ryGsGP9nLIvwsa6WvzjNuy+kq6BIT/\n",
       "9yUZKBKAaRNKRt7RwpoEIUu5aHEoPqsDcaJ/xr+Eixo34G5HAA7O+BnSMEMlD7/ZoUb/DYDSzZ6g\n",
       "1JIRqEss+igpMFoO56oD1eYB+e6OPwPnbwXMedRW0oQceOOVvkVrQnw+T+mqx4FltYQFtR3ijOVD\n",
       "eYd1Y/T6BJf5N9Bs6V2aDplCYtVx4sg1D2OxO61xCBI+aW54RyIC5iwftufRqNUjOzBZPPWyrk8a\n",
       "NmOrDTGod7tjolLTxC0uolPJLPpv/cs9bNUpfz6Li9CgyFOmfm55tjXar1nUD+kzh6inX2raR3a+\n",
       "X0DXmdr5U0cJ/gSEuiLF0wq/U1zKLMuJpZaml7yG7hkyPblus1egwy1iOSw5OrMy4LVROa2qtzvk\n",
       "kJQ0q9MuIOwxBGBMpko4D0mwjxKuglBs07gswYpOcAKmrDY5rqgdxg6H50ovWTfcAI+pHgI8LpsC\n",
       "qUWwyXzqBjfsPJzjs11PkJbgp5kM0bUehyaV19yWsvyfKg4csINIJKg6WxnoBVjzNg0br57ewN2i\n",
       "kaL+P8TuIlDLVWL24TNEtAJx/DfXI40NSTSLsJ6qsPhhRUMw3pUn3IQDuFdLGYbklEGL+CHWXnOv\n",
       "NP0vFre+DFmqdi+dPxttKnyU9jOUCmYR7H0S7B8xqWgzQedpUlPGmlbH+mKm3pZwq0IHNsEWS5xz\n",
       "7o2sGeWBY+bvVjbCDOpz0c80IgcyhvrHpAAEraqngRohtxIJfWy2VWf/Q9TMg3Py2ZBjwvmQz31G\n",
       "jQR6xMCU8KQUxKrUNQV6p8uJKLAFoRD/vNFH9PDnWdV9gYm/P0Y/6XUMVZeZ4hDfli2ACKFLSaM7\n",
       "7O8HOZuJmHgQ0y2CnSrHSfP9ROLY6kwSclzw0uxctfBgzr3Oa2nJmSFNjDp/DZlI0fggt/ACncIk\n",
       "0wKwmq1mZ/fUFssc9/QiumCQY9+AgBfXYYtX4UN6hr+3dNw0sYrsjOCO6PtbV79KoGaiIGpGDi+9\n",
       "OZsu2qiS/rOcMY58rE5NcjLCB3ofTiOU00QLRoBz6EKviMuQSoLDHSZhGX22VrHKA0bGMqLTF93U\n",
       "trpfNLJxklbo3LkW5RpcGKQJfgHDSNLkG9dlKZwfXKGqZB/cUG5xktUZddXkKEmcHc0DEy/9hX3q\n",
       "NH++dCpNbzsVG5AxgUEtpJed9gJPVYaEbNU/DCbl4tOG1opF78CCvg6+RQ81YPuY20lXxJ3ZeMQM\n",
       "rKPJ31NhO4jfhXmImpbAykGmn1JCoiPOy6DyaVqOkOWTVT3DhX+Nw3zWViPIGfoGpARvVh2POg3Z\n",
       "iTPOdKF+F5vqi7jJLpN8iVglqCwgVa9RQD9BgAFIugZMf6MfT8KIKojWBTqPl4VArjp2n+20+qVm\n",
       "fSbfu4rd7ic7RAdnRr9zBqNheF5vC9i8KdBEpp1VLdKdXAvlIGyjpU+hCSLl1CIxkq4UzCeUzH9W\n",
       "5gVwZM7wrT9o2o3XRr/j7QMmwRHIcdl4ViHih5BhsZ6Y5AuN+b6ZxsIO1sgqe7VtL2O3YofYUkI6\n",
       "agmMTwAAFuXcw//72MmU2vyBTjt95G4Qn3tLIlC8nELOgGBtVYEGdpjrwtaIaieZUGmGffS66S6c\n",
       "Wh78b4I3mRwCI309VYY2W9iO0oM0MvL6/bpfyTtERKiyYL0IMZ036+HrowZGWHwRKpoCyGYVwGfk\n",
       "ysgU+vb8pddiQ9bd3LYPISAcaWCAnSlcsPCHOPkZIIn0reFX6J0msz+QOlwcyfY03Y+Cn0l66ukO\n",
       "fSJ+lDe3aN61P8oxh71XEuRlrpd0mMnPJC0FQxOUIUVPYgLYQwadRd4qLzNSVzi+p5dpS7ygWq2j\n",
       "5/nS/79Kv7B5oPVnLtBPfzv/0NQC88X2LshJHgOT9+NrT0WJY28h9/D7FtWjIsx6bjTGmyKLP3oB\n",
       "JEj46/ffhfWpfKR2QEVww9zSYWzD6oENwZ2/0k+c2ZBq4VK/C7NxKzh1glfob7zzVOG9KY6AMLPM\n",
       "1tmBAYTXcGkxk6JrCZQzfWeGhVEf/HF5NBovFnvi7d7nXyG3IKhvdOP/WR584iG30EOjB1wchbBX\n",
       "IIm7itpm7gBnu713nXgAAAMAAAMAAAMAAAMAAAMAAAMAAAMAAAMAAAMAAAMADKkAAAHgQZokbEEf\n",
       "/rUqgAAAAwABqM7FgKBZQRMTvixjbDy/UWewcvth/IlxejGn2Dydkc3W43kD0MH+2CQPJpE+duWq\n",
       "kG6K3tuDxu//RU3AyImAn8YWxTGIIAB6hWO3IE/dSH+AmoV5eOT2iBeD9Tk7W1tPT1K2CfX/TTKa\n",
       "SSymg4KJMv/pj/iZ/uTfExdD7Vw/Z01t0AC0MHoPcbNF4/DOZ3l3yutMqf88XH1JuQ9MyMZQXd4d\n",
       "+QRpucOv8OxThxGBCINKwFss6YcCplkoFpA5hVa6Ak8ve3lA1+0glCfLX+F2R+6bGze2pWNgR3Yh\n",
       "3pp95uDzcY0pHdcC9CouWlkwMubb4JQL7yS3hU2THJ+zBL09pw1t7LGuLqKD4ZwSC4EodhGVWeIA\n",
       "eobVHnJlf/t0c7zfvxQCabpNyLQfBQwIiIXRQRSVul9bPKqeY4+5pXOrx6/wDMCLBnqdsGdNiD2z\n",
       "5FBpcQS8qUDC0SRjvadC3eEj2z/jrWg/08Aq1UStgCyY4hVTt85acvxOy46W1cEnA1CNf9qZYFRD\n",
       "KByDhNCaJ34jfBo3c/GHkPZ/NZ8TfkbaQKQanYasQ5Ec2SfeCXks+7575x+KF8pgB9pgnHBwlDle\n",
       "VMEq35OO8uqwYf4V/YtQAAKCAAABtEGeQniHfwAAAwAAAwADSbXf1iH0fZXAsAKoRBFPdGaqp9Fn\n",
       "04/ZuIMnL4NjEv/1veNTAC6T+7watrNJfHFuw8vSMNtwhktzE5jv8XxPgWFr+6bPERqU5tYSynQX\n",
       "bpeCsK4RwnLERr9SvNmzVuKYABCrCCWD7gaALbwLQq3IZ9uesl+vzWSypA2M2WHRQPD67LJfbEZo\n",
       "LhA41j+P9m2vMrSNN1lA7OcbQkea220Rx0HGYaZUUUNKKq59WbTN7YZHPXYDYNmEWT478lH8TUiB\n",
       "RKG+YSwjJxF5MTtZ8BmiqA5gAy1PDfIOACIob62qV4wdwuvjuMrc7oH0joISWhgqM5jCd0vdSS8d\n",
       "8mODWsUTCKw/ys97t9Prfot5l42g9pt8q1kOoQHk7Rm/XwnlyAHrMSvAYd+yB9Izmi9y5PnNxLtF\n",
       "py9QXbzwbPbgxnlEUj1tG/B5WKN1MaLw0jauMncAIcuHl5QtZBSI0+V5RCEdM4czctCglHI3QRIp\n",
       "V9CRk8IFHrb/zPdJjvSFOnp7O4zFeS6UVKa9l1bXKfT3SIDKI7geV/9H8Kfdhb1H5h00U7hDoAAA\n",
       "MCEAAACRAZ5hdEN/AAADAAADAAS19ki2z8f+iVh1LKjG5QAAdlm03rNACWHDtNHXaAz6F3xE8ORg\n",
       "Zg+njNpBgruMOWXaTvdYiLH8zXPDAy5ZSFycppnbduVGzf4aA6IcgvHsaQKMZzdkiRxpgBAr2G0H\n",
       "HcVPnvhLxPtEr4V9gqOYUsRk8IFHrLqNnhE+EALobrT8AABxwAAAAJ8BnmNqQ38AAAMAAAMABLa9\n",
       "ZF3mcwxi18uVDjagAB3lIbp6+3mOjqhPiAAHtuO00ddoSalid/T9Xuna80dYUYH0vlYVcNAdVwAV\n",
       "uEP0Jhe2DHyTgDd0oOTus3IDpZN6M/napT7ith6BwaU4YYWYoyYQMr587o5gi0XgnJEuSUKBUG8X\n",
       "v4k9gN4zaH1M4KmWBnQTQVQPhkK6igHiUCgACJkAAAGdQZpoSahBaJlMCCP//rUqgAAAAwAAAwB6\n",
       "vj5ssynH9pp8FZflCmg+pAA0VuVCThyjO1quKpX61QAF1+I3PXYoVHvPkBrBG2a3CbbqIGuznBhK\n",
       "jzy/zcHHr+fzMi6tMMt20vOzy5BMC8UbWnw9xPz6e1xc/c+1ZmcH75UyIJXwmOSD5o9/4lbfWDAv\n",
       "ww0zGFjP9QAY8/RsQLK/bKIjay/3mH3lHsh0XBgIxqvEanHPO//4vbN+cYE1hrzweWLI3/vZ59j0\n",
       "H/TQIaatNPyUMwd43l2xMMIUsCzZgeEOTJcniSYObQsre/U14Qe3qFcUCI7nlYbG9USUlP7TPd2F\n",
       "53QaX4HoDEBpAHfWCUH/haBmqt83HWBh+eZoJAwbiBzZzcTaAur/YYZOAApHaN2BIVl1ShbKk6pV\n",
       "B/caBi1bF0uSvFv5AM4ABig3Ijjq1UGyI13rR5wDtz5fkC+Tyh/uvuM6U5oR1J0h2IOdad4+qfhB\n",
       "agZrrC8jNNFJfloe3/tmhj968nTEXLKEgZ/dLjvIWZVYrVMTmtd2ep2gcAAAD0kAAAE3QZ6GRREs\n",
       "O/8AAAMAAAMAA1JH/PWMg8XRM44q7IQAAGq5Q5lAAnb30CySq9YuarDwq1dUrHj0ub1BdJj4iiF3\n",
       "7G1Rl4e9u7UdN3y1CeuzmgfML78ExEMwRSROU6ftbYBhBWW4U+vBSW+ApDpOOgiH+E03RXQ3coZi\n",
       "Yar/+JFlyieQ3/9phBSY/AEMIu+HzPgn81KlT25EavwAo5rnSEALoo1Z9rLFPyip3GxAwrtZIvx5\n",
       "VslcgEniRSxSv1f2fnkrLGJyQK+iQX0NDdO3otyVhsi4s3NrX6WBt/ivdb6SoVIeUuTaF6hM0Pyb\n",
       "ofkvnj0e0iIrhdIuREZSPalUJfTQxdjc+Nlnh0X3eAo08JsM+Dcd5nc8OUaxkQv6TJHEAty1BHwZ\n",
       "Qvfs2VxQDsZm0rvnMc9k/EAAB80AAADHAZ6ldEN/AAADAAADAAS19mDxB7g4C7egSBlqt1G0AAAD\n",
       "AAYtYgzt3zYMqdCou//5E2GhsAB/B7911xY7NoSpd35/4VlANf1CN/dQkVzP9+pss9qdXnikgK3q\n",
       "Ep/cjSrvGB74aWQlsTgSiHhUKIv2z11sPyxfygqnoYAAE05ki6HahQLf8BCkl+hIsMuLTpCJMSe0\n",
       "EGCVBn4fDRWnPDRDrU6HtcuQRaGPzAq509z788GkCOeqh+jLBgOMfnot7NKCH5M4QAAKmQAAAKMB\n",
       "nqdqQ38AAAMAAAMABLa9mN4xEcIvwWF/e1hykAJcQAey4pHIyYOc1Ud1hPMRiWYX+F8iIVmVcB+K\n",
       "wig6ugH+kHYNMaN0urXGNxgupygE+7uV2zjxcbllJHtDcvjNfZa8GX7bwf6xo1Eq/1sKsEabf6pl\n",
       "7a/3JQTPbjl7eXO0AMOUQGkAkeKf7/moLqgVyy4ibxyyUrs7BKNM/VcKvxAAAHtAAAABUUGarEmo\n",
       "QWyZTAgj//61KoAAAAMAAAMAEJ+/bK3BAy6jBNKicq8qABbzNjrJThCP4ZuL8KRqIyjB7MRVWfYs\n",
       "w+CNjwXeP2lD+zXQV8YVJxlZm643i9Gf6c8yVkiZ64+MBSXjaBdRVVtwc7vXNnp52gUG2tPbkJc4\n",
       "AQhV1IxZRGlglaLKlf+IU0RIR03cGiOA3Wq74ajHmtGrciOihnqAlNL0Gk6gp9sxR7PlTIicmoD5\n",
       "picc5GTqP1//mrR7xlb8aKgow8X0E7rcWwKjbhk6FH/f//jVji5ZIEjnXcC3D9SbXuPDdthl8150\n",
       "VUBT5P4jjhNI77qFsjBRHS9beZyq92QI2q0zSqgtngluvEOZnsJjiGB8VYWvcnsYIG6SSJt2xnP4\n",
       "IbDwPKLkfJYXBgHzdgAUuSzbFS22Kp14Wa7jawtOsRQzcSj1eLFeYKUoCBLBQ+4AAAE2QZ7KRRUs\n",
       "O/8AAAMAAAMAA1JH/KRvEVSkyaJb522Z1M+wAaBdJ+0T1gmzUGd5OG39GlwE9I+rVYFyAgKBOhKJ\n",
       "U//8O6IyOuDdkEfszlv3JUS5KrU2+Za+141blVvt/3/Uzsyk449zjNgMuQqgUrgFugHi/6gC/pYH\n",
       "G64ULwy/dUcVvDsasO9HukS/YzaB5QJGJgyGXSYzRESPx7feQIl5LBynVflWzC5P9dBvJhp+KIOP\n",
       "h+Vmy5zcsiIB8cF10h+2U7jHEu00uSFOLQobAUtE+3+tVocbGfrekuSVn8JK/5SIKbBwhXbviOYr\n",
       "Sa2TJUcC16Qob+8h+KKF6WtqZ9OTKokCqH0gn0EzxtR9S8CzlvAtBD4XPxIp9FksWYXSJj7fAuqU\n",
       "C9uAL8gx82CSllpqldQSHAAakQAAAIoBnul0Q38AAAMAAAMABLX2XPDkJGyuwFmgATXKZuLP+z0U\n",
       "QXA3Cxo5PgLKlNGu/ZtM6hmpDG0vfcUpnSnr1h075t9+R3f/eP/vaHkr5tGlny+w1/946KKL5/2Z\n",
       "Bilvl9SRVtV2rouSUU++8O0W6nfb6590wVZkFyM3pydmaC3SSg+jHbG+MvgACHgAAACuAZ7rakN/\n",
       "AAADAAADAAS2vZTd//cYto0ES4U22QoEhzlwAs0j5mSm+bTcVug6EEjYgsAADExX79A3UgGAQheG\n",
       "useyRR0Nm7+4pyvb7L0CUMndWqVeenBAh6WhWCPk4gkr6FUZnV6boQ/gQlm/cOOjGdxOvMlPe4Xr\n",
       "kIWLhtwaVMTIN3buKRjI4r3nP91dneZMmDKRMAj6cDYsfCkX8/zd9Ke/prLzSINa28QPAAKCAAAB\n",
       "I0Ga8EmoQWyZTAgh//6qVQAAAwAAAwAAHdYYwisk3zUjJ2MVQAUita6AWPR33HZTjzT9v57aMs+A\n",
       "iFgACL6m0jQUWcBQHHnisddT7rgpe4fAkyD8mX78CA2ceOnPAn70WU/8hWLx13oCphRzQxOotbBb\n",
       "3e5JVT60hWtBobrzTdzCQqZngowRSgySzYd0h9x8KTMwGzuTDjND7qK3+5op+b2HlhQ8Qt1nBlV0\n",
       "jsuU+72qjCf99IzgFZlt6RK2fgXQrU1rUxA/HxE1IwwOxa/q5xWFx4KCLurSfllwq4pzYok0RLcD\n",
       "o+U4IlamGi4ArZgvLYt5rKu3Rrl886/Q5aZMK5llMOBVQLyWzOEbyCLMyNWP8fCiHS8LBUOPhecr\n",
       "0BRjAAAM+QAAAWlBnw5FFSw7/wAAAwAAAwADUkgC1XYWJKjN/+iPvEEALdMPPGwrIuKzz0FJFa+g\n",
       "96Ny9KAcGv6hYPMnvdYJSCBQsqypEDvTOj1Wy8poRw/Mfgd09iJ6jZ30+Sw3tVRq9wfkKgBCJobd\n",
       "QsQz/6iX2FbCxQNsBYa771dnP0/JpNeECmJ16SCLpYRH/sYAHAWnReORtWxSoU1lQuyR3cqwEMLm\n",
       "e9YewschRjy5+lvGBfnsguH7K+h7Tb1ORZNCiJqnzsHcMqegBBr8TzjvU+fUqxgIjP8I0CYsEz5I\n",
       "kX+b7256O0OAQsCHZk2s1Uj+lzjc9q+dFF9vkBAd2OjpTEsuNEsScU/dtfWqU4Fvw/HDqVyG1t7I\n",
       "w4yO5iucgFoCXK6UQPbEM/LiClVazFuRkPjQFr+01tcnxYFrtnyGofCR9gmjls23Xcl7HbviSbOT\n",
       "VAsyBAxqmVa83LaISgVzK2F0HCU/cSj+wAAAAwJvAAAA8wGfLXRDfwAAAwAAAwAEtfYphYND/0qA\n",
       "C6rga/ccIRq4UuNwIhcO1F8AABiYop9xVRzjBCoAYyj2GCSACf/+RNed5YQa5uCYIsWfwR+m6JVZ\n",
       "wK6Ziq5/REVbet82M/xDisSHqKZGv/w6iqH02AzRY52JQJzKFGUbVXTwM2tlM9LKJBCwsMgm+phF\n",
       "IqcJCM2viso7p1cDuGSNlRudOZLomKmklONKVIteAcVq8QcpHrYLNy87gDMLH1mQEYruEYBli8K+\n",
       "0s4OdEVpk+8u30nx+q9Q+ChWkc1EBzofEDxHTtdJed9e0uUbmLTrzfwkD7UCD4ABLwAAAHwBny9q\n",
       "Q38AAAMAAAMABLa9jIQaq+BgGH3gACZHDtNHXZ7j4feEA3yqkgEFxQjIOYhL5rcDz+sUsZsb12nM\n",
       "Bdi1DtRL8wf5a245gKQXKnKuXoGDqUPEyg8AJM56+0qehl/uilHNxxK5l3eT8dycy+Dj3FLLEuG7\n",
       "cOhQALaAAAAA2EGbMkmoQWyZTBRMEP/+qlUAAAMAAAMAAMF71L+BMROF5tTW2nTor6xQAWndZAuy\n",
       "n65jx56pIzPscqkF+nrZWpqaTBY11dhla3qTZ4+e+2ZJsDDd72xNbtLsfZHaP3st+qS9JXpxOiZ9\n",
       "lTAn/hOkxcpuiX+GPGiMM6LiE8VxmlJ3MtvOcLjAovgn8CSLJT+axofhJmIZePGcqaPYwZkCTi1i\n",
       "oT8JRAc/LarOhoLTsRtwWc2y/xKr9sn48mCs6LJO8MHUwC9sDYyZGfxalOi5B1JwTR6yZLw7gAAA\n",
       "AFgBn1FqQ38AAAMAAAMABLcjKCMvzWFcXoxFjoAPxtnUCiQpaI37omk9ANNOg5STX7Xw3cPYBOsN\n",
       "FlztBGMZy9HZOFVvdCczs9V6m+UiukbZQYjOfy4AAAtpAAAAz0GbVknhClJlMCH//qmWAAADAAAD\n",
       "AABnrm3b8np0RWP8tNQAXBVBHS4vMjhMIOzC1KKqzQMTfgO/9Eb8UQIiV0/7gHRK2A85Zo3e8X+G\n",
       "W7Sv7TfFkmPE2RdvLjh7tJEXbTwAzoiRsv/w3DyyIv5zGK4u9BahsSIulg5bp9S6K/Mr42m/Uzhb\n",
       "qToMMofvXgb7Rke5+iF9STurft6gHiyBebCq4GR2o3We6puVMzKcTkNfcc8R+bsD47cfejE5iRFR\n",
       "eHYxsvO1GIKhYWQdYAAGBAAAAKxBn3RFNEw7/wAAAwAAAwADUijMj5hIquqDpZACdveelHbi9oq7\n",
       "WaTLR0daTsRW2ADLD2utS41xM/4L0vEEou2j+yXicQgNjMMh0UPb0ceCjU8jCni68XxhjbKgRYeO\n",
       "nfQwCSedlcDZDp73iuDBKpIbW2S4oegLgwJkZrF8Gj8uaG37e6lMOvvvq+dSVvNdJzD/mPV7H3rf\n",
       "/wYLdtZ//WNEa5+4WRHIyRwAAPGAAAAAUQGfk3RDfwAAAwAAAwAEtfYpLLsf6w0YTfWtgnIAJVaA\n",
       "DsqYYREtKvzo1P3KTzZNdNhhRUjFCe+4fawB8yRO1A0G3tpDIPFLdRFL/sASAAAW0QAAAIEBn5Vq\n",
       "Q38AAAMAAAMABLa9YRrtnk+GC+Ceq+AATQZ3sNbZGCBvfjEz08Wfy7BqGlTrLNcGtusTFYB8X6r2\n",
       "eWv/5S2laSwUIor7K6oNvaQ9i/SNfJn7+63/+qjtX+OqyQGhILTK+7V0946TsYfmDcyvxUW9+FPc\n",
       "cQ7fggowIAAA44AAAACgQZuXSahBaJlMCCH//qpVAAADAAADAAAYrLnu9EBYgAy8GVUQxCv06Lkf\n",
       "joK2df/IVc86RIhtm95x5nU2/L7VkYu8ylHBRmu2L6dSswBtwY4vhMAUIX7AZzx6UmV/XksExxmw\n",
       "RFjYfLe1/A/mYViUOgeKxC1sP+1oOK+r96VVgHZb6rRmGB/RlrK1MlqDpffdqFXI0HSLba6WjVrI\n",
       "5rLA4QAAAIpBm7lJ4QpSZTBREsP//qmWAAADAAADAAH190pv/wafPny4zOxwATVsi09F3I1m2TAt\n",
       "BRuABas0IT5ozmsEA9CHZIkKadFU9U/NK/wXGaeAljvxSGtC/8LOp8JwC0AdCemxcIqC4UzdN6y2\n",
       "OExk9HHv86y1ZRF+44hsELstonZ9gkNuL0ZtC3gAO6EAAABTAZ/YakN/AAADAAADAAFrTvZX0lhh\n",
       "gyFbiNXDL6YAS1cL/N14iepF9+C0aSvVOf8KveJ9atFSqD9ZZjxwdT8FZtM/Vz7B8CUEz9Nhf18p\n",
       "fyAABgQAAABmQZvaSeEOiZTAh//+qZYAAAMAAAMAAFlCX/6rb39qkUqgA1O4bXRQTAvt471bGXc5\n",
       "gJTJ8hqZsk+9ZC6bkmvGlUBRucJhNTiMnv+4dSOHMw7gw9NB6dkC5gdek/bcDVtrAOwr2/DhAAAA\n",
       "x0Gb/UnhDyZTAhv//qeEAAADAAADAACsiGg2kkcroAPbcFtEoAp0VsqUHW+PAD3IJsDMGlda9RRN\n",
       "390ht4Aoe98Rwhz8zePu4rdfivV/xGIteaykUzqTxlHRU6jIlbbmVYtGd8y4IRUWm5g8tvL/8YDh\n",
       "Xiru0d/4oIonnxpVbBAZkiDp+ieRuF7M2aOdj8MDHS+0zpfifVVIW9lbpMbPyIjxu8rl1nKlRaWq\n",
       "ZmLoqnRl+FwhbjFCtd3BONOilLQUEOH/MnIAAQcAAABMQZ4bRRE8N/8AAAMAAAMAAVCYHTg5ng93\n",
       "IjpEPjkoEB18fz4ACXhU0S6HUuvZ/ycA4ajGHAb/hlEm/CvM0pIxUu3eHk2nhf4iAAA2YQAAAE8B\n",
       "njxqQ38AAAMAAAMAADy9r9ZB2DelB2I4y7ls7nnyoAK9UJlmFtV5cAlYXLvp6nRNpf6E6DWM3NI5\n",
       "QjqYRgi2Wx50+eR2evjc9oXAAAelAAAEjm1vb3YAAABsbXZoZAAAAAAAAAAAAAAAAAAAA+gAAAu4\n",
       "AAEAAAEAAAAAAAAAAAAAAAABAAAAAAAAAAAAAAAAAAAAAQAAAAAAAAAAAAAAAAAAQAAAAAAAAAAA\n",
       "AAAAAAAAAAAAAAAAAAAAAAAAAAAAAAIAAAO4dHJhawAAAFx0a2hkAAAAAwAAAAAAAAAAAAAAAQAA\n",
       "AAAAAAu4AAAAAAAAAAAAAAAAAAAAAAABAAAAAAAAAAAAAAAAAAAAAQAAAAAAAAAAAAAAAAAAQAAA\n",
       "AASwAAABkAAAAAAAJGVkdHMAAAAcZWxzdAAAAAAAAAABAAALuAAACAAAAQAAAAADMG1kaWEAAAAg\n",
       "bWRoZAAAAAAAAAAAAAAAAAAAKAAAAHgAVcQAAAAAAC1oZGxyAAAAAAAAAAB2aWRlAAAAAAAAAAAA\n",
       "AAAAVmlkZW9IYW5kbGVyAAAAAtttaW5mAAAAFHZtaGQAAAABAAAAAAAAAAAAAAAkZGluZgAAABxk\n",
       "cmVmAAAAAAAAAAEAAAAMdXJsIAAAAAEAAAKbc3RibAAAALNzdHNkAAAAAAAAAAEAAACjYXZjMQAA\n",
       "AAAAAAABAAAAAAAAAAAAAAAAAAAAAASwAZAASAAAAEgAAAAAAAAAAQAAAAAAAAAAAAAAAAAAAAAA\n",
       "AAAAAAAAAAAAAAAAAAAAABj//wAAADFhdmNDAWQAH//hABhnZAAfrNlASwzoQAAAAwBAAAAFA8YM\n",
       "ZYABAAZo6+PLIsAAAAAcdXVpZGtoQPJfJE/FujmlG88DI/MAAAAAAAAAGHN0dHMAAAAAAAAAAQAA\n",
       "AB4AAAQAAAAAFHN0c3MAAAAAAAAAAQAAAAEAAAD4Y3R0cwAAAAAAAAAdAAAAAQAACAAAAAABAAAU\n",
       "AAAAAAEAAAgAAAAAAQAAAAAAAAABAAAEAAAAAAEAABQAAAAAAQAACAAAAAABAAAAAAAAAAEAAAQA\n",
       "AAAAAQAAFAAAAAABAAAIAAAAAAEAAAAAAAAAAQAABAAAAAABAAAUAAAAAAEAAAgAAAAAAQAAAAAA\n",
       "AAABAAAEAAAAAAEAAAwAAAAAAQAABAAAAAABAAAUAAAAAAEAAAgAAAAAAQAAAAAAAAABAAAEAAAA\n",
       "AAEAAAgAAAAAAQAADAAAAAABAAAEAAAAAAEAAAgAAAAAAQAAEAAAAAACAAAEAAAAABxzdHNjAAAA\n",
       "AAAAAAEAAAABAAAAHgAAAAEAAACMc3RzegAAAAAAAAAAAAAAHgAAFLgAAAHkAAABuAAAAJUAAACj\n",
       "AAABoQAAATsAAADLAAAApwAAAVUAAAE6AAAAjgAAALIAAAEnAAABbQAAAPcAAACAAAAA3AAAAFwA\n",
       "AADTAAAAsAAAAFUAAACFAAAApAAAAI4AAABXAAAAagAAAMsAAABQAAAAUwAAABRzdGNvAAAAAAAA\n",
       "AAEAAAAsAAAAYnVkdGEAAABabWV0YQAAAAAAAAAhaGRscgAAAAAAAAAAbWRpcmFwcGwAAAAAAAAA\n",
       "AAAAAAAtaWxzdAAAACWpdG9vAAAAHWRhdGEAAAABAAAAAExhdmY1OC4yOS4xMDA=\n",
       "\">\n",
       "  Your browser does not support the video tag.\n",
       "</video>"
      ],
      "text/plain": [
       "<IPython.core.display.HTML object>"
      ]
     },
     "execution_count": 17,
     "metadata": {},
     "output_type": "execute_result"
    },
    {
     "data": {
      "image/png": "[encoded data removed]",
      "text/plain": [
       "<Figure size 800x800 with 1 Axes>"
      ]
     },
     "metadata": {},
     "output_type": "display_data"
    }
   ],
   "source": [
    "scenario_path = \"scenarios/highd_loc2/ZAM_HighD-2_1_T-1\"\n",
    "\n",
    "with open(\"scenarios/highd_config.yaml\") as file:\n",
    "    global_config = yaml.load(file, Loader=yaml.FullLoader)\n",
    "with open(scenario_path + \".yaml\") as file:\n",
    "    scenario_config = yaml.load(file, Loader=yaml.FullLoader)\n",
    "config = merge_config(global_config, scenario_config)\n",
    "\n",
    "scenario, _ = CommonRoadFileReader(scenario_path + \".xml\").open()\n",
    "\n",
    "def plot_full_scenario(timestep, scenario, config):\n",
    "    plt.cla()\n",
    "    Visualizer().plot_unsimulated(scenario, config, timestep)\n",
    "    plt.axis('scaled')\n",
    "    plt.xlim(0,420)\n",
    "    plt.ylim(-30,30)\n",
    "\n",
    "fig = plt.figure(figsize=(12, 4))\n",
    "anim = animation.FuncAnimation(fig, plot_full_scenario, fargs=[scenario, config], frames=range(config[\"simulation_duration\"]), interval=100, blit=False)\n",
    "HTML(anim.to_html5_video())\n"
   ]
  },
  {
   "attachments": {},
   "cell_type": "markdown",
   "metadata": {},
   "source": [
    "## Run a single scenario"
   ]
  },
  {
   "cell_type": "code",
   "execution_count": 4,
   "metadata": {},
   "outputs": [
    {
     "data": {
      "image/png": "[encoded data removed]",
      "text/plain": [
       "<Figure size 640x480 with 1 Axes>"
      ]
     },
     "metadata": {},
     "output_type": "display_data"
    },
    {
     "data": {
      "image/png": "[encoded data removed]",
      "text/plain": [
       "<Figure size 640x480 with 1 Axes>"
      ]
     },
     "metadata": {},
     "output_type": "display_data"
    },
    {
     "name": "stderr",
     "output_type": "stream",
     "text": [
      "Running simulation:   0%|          | 0/31 [00:01<?, ?it/s]\n"
     ]
    },
    {
     "ename": "AttributeError",
     "evalue": "'list' object has no attribute 'center_vertices'",
     "output_type": "error",
     "traceback": [
      "\u001b[0;31m---------------------------------------------------------------------------\u001b[0m",
      "\u001b[0;31mAttributeError\u001b[0m                            Traceback (most recent call last)",
      "Cell \u001b[0;32mIn[4], line 14\u001b[0m\n\u001b[1;32m     11\u001b[0m scenario2, _ \u001b[39m=\u001b[39m CommonRoadFileReader(scenario_path \u001b[39m+\u001b[39m \u001b[39m\"\u001b[39m\u001b[39m.xml\u001b[39m\u001b[39m\"\u001b[39m)\u001b[39m.\u001b[39mopen()\n\u001b[1;32m     13\u001b[0m config[\u001b[39m'\u001b[39m\u001b[39mocclusion_params\u001b[39m\u001b[39m'\u001b[39m][\u001b[39m'\u001b[39m\u001b[39mvelocity_tracking_enabled\u001b[39m\u001b[39m'\u001b[39m] \u001b[39m=\u001b[39m \u001b[39mTrue\u001b[39;00m\n\u001b[0;32m---> 14\u001b[0m tracked_vehicle, tracked_scenarios, tracked_views, tracked_shadows \u001b[39m=\u001b[39m step_simulation(scenario1, config)\n\u001b[1;32m     16\u001b[0m config[\u001b[39m'\u001b[39m\u001b[39mocclusion_params\u001b[39m\u001b[39m'\u001b[39m][\u001b[39m'\u001b[39m\u001b[39mvelocity_tracking_enabled\u001b[39m\u001b[39m'\u001b[39m] \u001b[39m=\u001b[39m \u001b[39mFalse\u001b[39;00m\n\u001b[1;32m     17\u001b[0m no_track_vehicle, not_tracked_scenarios, not_tracked_views, not_tracked_shadows \u001b[39m=\u001b[39m step_simulation(scenario2, config)\n",
      "File \u001b[0;32m~/Documents/Implementations/occlusion_tracking/python_scripts/simulation.py:101\u001b[0m, in \u001b[0;36mstep_simulation\u001b[0;34m(scenario, configuration)\u001b[0m\n\u001b[1;32m     98\u001b[0m \u001b[39m# Update the planner and plan a trajectory\u001b[39;00m\n\u001b[1;32m     99\u001b[0m \u001b[39m# Optionally, generate a no-stop zone on intersections to avoid having trajectories that stop on an intersection.\u001b[39;00m\n\u001b[1;32m    100\u001b[0m planner\u001b[39m.\u001b[39mupdate(ego_vehicle\u001b[39m.\u001b[39minitial_state)\n\u001b[0;32m--> 101\u001b[0m collision_free_trajectory \u001b[39m=\u001b[39m planner\u001b[39m.\u001b[39;49mplan(percieved_scenario)\n\u001b[1;32m    102\u001b[0m \u001b[39mif\u001b[39;00m collision_free_trajectory:\n\u001b[1;32m    103\u001b[0m     ego_vehicle\u001b[39m.\u001b[39mprediction \u001b[39m=\u001b[39m collision_free_trajectory\n",
      "File \u001b[0;32m~/Documents/Implementations/occlusion_tracking/python_scripts/planner.py:40\u001b[0m, in \u001b[0;36mPlanner.plan\u001b[0;34m(self, scenario)\u001b[0m\n\u001b[1;32m     39\u001b[0m \u001b[39mdef\u001b[39;00m \u001b[39mplan\u001b[39m(\u001b[39mself\u001b[39m, scenario):\n\u001b[0;32m---> 40\u001b[0m     trajectories \u001b[39m=\u001b[39m \u001b[39mself\u001b[39;49m\u001b[39m.\u001b[39;49mgenerate_trajectories(scenario\u001b[39m.\u001b[39;49mlanelet_network)\n\u001b[1;32m     41\u001b[0m     safe_trajectories \u001b[39m=\u001b[39m \u001b[39mself\u001b[39m\u001b[39m.\u001b[39mget_safe_trajectories(trajectories, scenario)\n\u001b[1;32m     42\u001b[0m     optimal_trajectory \u001b[39m=\u001b[39m \u001b[39mself\u001b[39m\u001b[39m.\u001b[39mget_optimal_trajectory(safe_trajectories)\n",
      "File \u001b[0;32m~/Documents/Implementations/occlusion_tracking/python_scripts/planner.py:47\u001b[0m, in \u001b[0;36mPlanner.generate_trajectories\u001b[0;34m(self, lanelet_network)\u001b[0m\n\u001b[1;32m     45\u001b[0m \u001b[39mdef\u001b[39;00m \u001b[39mgenerate_trajectories\u001b[39m(\u001b[39mself\u001b[39m, lanelet_network):\n\u001b[1;32m     46\u001b[0m     \u001b[39mif\u001b[39;00m \u001b[39mnot\u001b[39;00m \u001b[39mself\u001b[39m\u001b[39m.\u001b[39mwaypoints:\n\u001b[0;32m---> 47\u001b[0m         \u001b[39mself\u001b[39;49m\u001b[39m.\u001b[39;49mfind_waypoints(lanelet_network)\n\u001b[1;32m     49\u001b[0m     velocity_profiles \u001b[39m=\u001b[39m \u001b[39mself\u001b[39m\u001b[39m.\u001b[39mgenerate_velocity_profiles()\n\u001b[1;32m     50\u001b[0m     trajectories \u001b[39m=\u001b[39m \u001b[39mself\u001b[39m\u001b[39m.\u001b[39mcreate_trajectories(velocity_profiles)\n",
      "File \u001b[0;32m~/Documents/Implementations/occlusion_tracking/python_scripts/planner.py:74\u001b[0m, in \u001b[0;36mPlanner.find_waypoints\u001b[0;34m(self, lanelet_network)\u001b[0m\n\u001b[1;32m     72\u001b[0m         \u001b[39mcontinue\u001b[39;00m\n\u001b[1;32m     73\u001b[0m     \u001b[39mbreak\u001b[39;00m\n\u001b[0;32m---> 74\u001b[0m \u001b[39mself\u001b[39m\u001b[39m.\u001b[39mwaypoints \u001b[39m=\u001b[39m \u001b[39mlist\u001b[39m(starting_lane\u001b[39m.\u001b[39;49mcenter_vertices)\n\u001b[1;32m     75\u001b[0m \u001b[39mself\u001b[39m\u001b[39m.\u001b[39mremove_passed_waypoints()\n",
      "\u001b[0;31mAttributeError\u001b[0m: 'list' object has no attribute 'center_vertices'"
     ]
    }
   ],
   "source": [
    "override_results = False # Decides if these results will override potential logged results\n",
    "scenario_path = \"scenarios/highd_loc1/ZAM_HighD-1_1_T-1\"\n",
    "\n",
    "with open(\"scenarios/highd_config.yaml\") as file:\n",
    "    global_config = yaml.load(file, Loader=yaml.FullLoader)\n",
    "with open(scenario_path + \".yaml\") as file:\n",
    "    scenario_config = yaml.load(file, Loader=yaml.FullLoader)\n",
    "config = merge_config(global_config, scenario_config)\n",
    "\n",
    "scenario1, _ = CommonRoadFileReader(scenario_path + \".xml\").open()\n",
    "scenario2, _ = CommonRoadFileReader(scenario_path + \".xml\").open()\n",
    "\n",
    "config['occlusion_params']['velocity_tracking_enabled'] = True\n",
    "tracked_vehicle, tracked_scenarios, tracked_views, tracked_shadows = step_simulation(scenario1, config)\n",
    "\n",
    "config['occlusion_params']['velocity_tracking_enabled'] = False\n",
    "no_track_vehicle, not_tracked_scenarios, not_tracked_views, not_tracked_shadows = step_simulation(scenario2, config)\n",
    "\n",
    "if override_results:\n",
    "    save_results()"
   ]
  },
  {
   "attachments": {},
   "cell_type": "markdown",
   "metadata": {},
   "source": [
    "## Run all scenarios"
   ]
  },
  {
   "cell_type": "code",
   "execution_count": null,
   "metadata": {},
   "outputs": [
    {
     "name": "stdout",
     "output_type": "stream",
     "text": [
      "ZAM_HighD-1_10_T-1\n"
     ]
    },
    {
     "data": {
      "image/png": "[encoded data removed]",
      "text/plain": [
       "<Figure size 640x480 with 1 Axes>"
      ]
     },
     "metadata": {},
     "output_type": "display_data"
    },
    {
     "data": {
      "image/png": "[encoded data removed]",
      "text/plain": [
       "<Figure size 640x480 with 1 Axes>"
      ]
     },
     "metadata": {},
     "output_type": "display_data"
    },
    {
     "name": "stderr",
     "output_type": "stream",
     "text": [
      "Running simulation:   0%|          | 0/31 [00:00<?, ?it/s]"
     ]
    },
    {
     "name": "stdout",
     "output_type": "stream",
     "text": [
      "Simulation raised an error for scenario  ZAM_HighD-1_10_T-1\n"
     ]
    },
    {
     "name": "stderr",
     "output_type": "stream",
     "text": [
      "\n"
     ]
    },
    {
     "ename": "TypeError",
     "evalue": "save_results() missing 7 required positional arguments: 'filename', 'tracked_vehicle', 'tracked_scenarios', 'tracked_shadows', 'baseline_vehicle', 'baseline_scenarios', and 'baseline_shadows'",
     "output_type": "error",
     "traceback": [
      "\u001b[0;31m---------------------------------------------------------------------------\u001b[0m",
      "\u001b[0;31mTypeError\u001b[0m                                 Traceback (most recent call last)",
      "Cell \u001b[0;32mIn[20], line 29\u001b[0m\n\u001b[1;32m     26\u001b[0m \u001b[39mexcept\u001b[39;00m \u001b[39mException\u001b[39;00m \u001b[39mas\u001b[39;00m e:\n\u001b[1;32m     27\u001b[0m     \u001b[39mprint\u001b[39m(\u001b[39m\"\u001b[39m\u001b[39mSimulation raised an error for scenario \u001b[39m\u001b[39m\"\u001b[39m, scenario1\u001b[39m.\u001b[39mscenario_id)\n\u001b[0;32m---> 29\u001b[0m save_results()\n",
      "\u001b[0;31mTypeError\u001b[0m: save_results() missing 7 required positional arguments: 'filename', 'tracked_vehicle', 'tracked_scenarios', 'tracked_shadows', 'baseline_vehicle', 'baseline_scenarios', and 'baseline_shadows'"
     ]
    }
   ],
   "source": [
    "skip_existing = True # Skips any scenarios that already have existing results.\n",
    "\n",
    "scenario_path = \"scenarios/\"\n",
    "results_path = \"results/\"\n",
    "path_xml = os.path.join(scenario_path, \"highd_loc*\",\"*.xml\")\n",
    "path_yaml = os.path.join(scenario_path, \"highd_loc*\",\"*.yaml\")\n",
    "\n",
    "xml_list = sorted(glob.glob(path_xml))\n",
    "yaml_list = sorted(glob.glob(path_yaml))\n",
    "\n",
    "with open(\"scenarios/highd_config.yaml\") as file:\n",
    "    global_config = yaml.load(file, Loader=yaml.FullLoader)\n",
    "\n",
    "for xml_file, yaml_file in zip(xml_list, yaml_list):\n",
    "    scenario1, _ = CommonRoadFileReader(xml_file).open()\n",
    "    scenario2, _ = CommonRoadFileReader(xml_file).open()\n",
    "    with open(yaml_file) as file:\n",
    "        scenario_config = yaml.load(file, Loader=yaml.FullLoader)\n",
    "    config = merge_config(global_config, scenario_config)\n",
    "\n",
    "    if skip_existing and os.path.isfile(os.path.join(results_path, scenario1.scenario_id)):\n",
    "        continue\n",
    "\n",
    "    try:\n",
    "        config['occlusion_params']['velocity_tracking_enabled'] = True\n",
    "        tracked_vehicle, tracked_scenarios, tracked_views, tracked_shadows = step_simulation(scenario1, config)\n",
    "\n",
    "        config['occlusion_params']['velocity_tracking_enabled'] = False\n",
    "        no_track_vehicle, not_tracked_scenarios, not_tracked_views, not_tracked_shadows = step_simulation(scenario2, config)\n",
    "\n",
    "    except Exception as e:\n",
    "        print(\"Simulation raised an error for scenario \", scenario1.scenario_id)\n",
    "\n",
    "    save_results()\n",
    "    \n",
    "\n",
    "    \n",
    "    "
   ]
  }
 ],
 "metadata": {
  "kernelspec": {
   "display_name": "Python 3",
   "language": "python",
   "name": "python3"
  },
  "language_info": {
   "codemirror_mode": {
    "name": "ipython",
    "version": 3
   },
   "file_extension": ".py",
   "mimetype": "text/x-python",
   "name": "python",
   "nbconvert_exporter": "python",
   "pygments_lexer": "ipython3",
   "version": "3.8.10"
  },
  "orig_nbformat": 4
 },
 "nbformat": 4,
 "nbformat_minor": 2
}
